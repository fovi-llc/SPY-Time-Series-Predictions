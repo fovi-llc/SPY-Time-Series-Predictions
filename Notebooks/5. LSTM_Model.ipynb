{
  "cells": [
    {
      "cell_type": "markdown",
      "metadata": {
        "colab_type": "text",
        "id": "rc7DTpLs9wiz"
      },
      "source": [
        "# Building an LSTM model to predict the price of the S&P 500\n",
        "\n",
        "- LSTM stands for Long Short Term Memory\n",
        "\n",
        "The LSTM cell contains an RNN cell inside (dense layer with a tanh activation function), but it has other attributes that allow it to remember patterns over a longer period of time. The LSTM contains a short-term state vector that is used from one time step to the next identical to the RNN cell.\n",
        "\n",
        "Where LSTM cells differ is their Long-Term State vector. This long term state vector undergoes a multipicative and additive operation at each time step.The long term state vector starts off with a \"forget gate\" which is simply a sigmoid activation on top of a dense layer which produces an output from 0 - 1. This means if the forget gate ourputs a value of 1 then the long term state vector remains unchanged. On the opposite end, if the output valuse of the dense layer is 0 the long term state vector is nullified. This helps adjust quickly to highly volatile environments. If we are in a steady uptrend and then we suddenly have a big drop in the market, the long term state vector will be erased so the model can readjust quickly.\n",
        "\n",
        "The next gate is the input gate. The input gate is much like the forget gate, except it decides if the short term state vector gets added to the long term vector or is erased. \n",
        "\n",
        "The last gate called the \"output gate\" decides what the next hidden state should be. It is important to know that this hidden state output is the prediction for the next time step. Here, the previous hidden state (previous cell output) amd current input are jammed together through sigmoid function. Then we take our newly modified long term state vector which has already passed through the forget and input gates, and apply a tanh function to it. Finally, multiple both the tanh output (long term state vector output) and the sigmoid function output (previous hidden state and new input at this time step) to what information the hidden state needs to carry to the next time step.\n",
        "\n",
        "</br>\n",
        "<b>To review, the Forget gate decides what is relevant to keep from prior steps. The input gate decides what information is relevant to add from the current step. The output gate determines what the next hidden state should be.</b>"
      ]
    },
    {
      "cell_type": "markdown",
      "metadata": {
        "colab_type": "text",
        "id": "vidayERjaO5q"
      },
      "source": [
        "## Setup"
      ]
    },
    {
      "cell_type": "code",
      "execution_count": 8,
      "metadata": {},
      "outputs": [
        {
          "name": "stdout",
          "output_type": "stream",
          "text": [
            "Requirement already satisfied: numpy in /opt/homebrew/lib/python3.11/site-packages (1.26.4)\n",
            "Requirement already satisfied: pandas in /opt/homebrew/lib/python3.11/site-packages (2.2.2)\n",
            "Requirement already satisfied: matplotlib in /opt/homebrew/lib/python3.11/site-packages (3.8.4)\n",
            "Requirement already satisfied: tensorflow in /opt/homebrew/lib/python3.11/site-packages (2.16.1)\n",
            "Requirement already satisfied: seaborn in /opt/homebrew/lib/python3.11/site-packages (0.13.2)\n",
            "Requirement already satisfied: scikit-learn in /opt/homebrew/lib/python3.11/site-packages (1.4.2)\n",
            "Collecting keras==2.15.0\n",
            "  Downloading keras-2.15.0-py3-none-any.whl.metadata (2.4 kB)\n",
            "Requirement already satisfied: python-dateutil>=2.8.2 in /Users/jim/Library/Python/3.11/lib/python/site-packages (from pandas) (2.9.0.post0)\n",
            "Requirement already satisfied: pytz>=2020.1 in /opt/homebrew/lib/python3.11/site-packages (from pandas) (2024.1)\n",
            "Requirement already satisfied: tzdata>=2022.7 in /opt/homebrew/lib/python3.11/site-packages (from pandas) (2024.1)\n",
            "Requirement already satisfied: contourpy>=1.0.1 in /opt/homebrew/lib/python3.11/site-packages (from matplotlib) (1.2.1)\n",
            "Requirement already satisfied: cycler>=0.10 in /opt/homebrew/lib/python3.11/site-packages (from matplotlib) (0.12.1)\n",
            "Requirement already satisfied: fonttools>=4.22.0 in /opt/homebrew/lib/python3.11/site-packages (from matplotlib) (4.51.0)\n",
            "Requirement already satisfied: kiwisolver>=1.3.1 in /opt/homebrew/lib/python3.11/site-packages (from matplotlib) (1.4.5)\n",
            "Requirement already satisfied: packaging>=20.0 in /opt/homebrew/lib/python3.11/site-packages (from matplotlib) (24.0)\n",
            "Requirement already satisfied: pillow>=8 in /opt/homebrew/lib/python3.11/site-packages (from matplotlib) (10.3.0)\n",
            "Requirement already satisfied: pyparsing>=2.3.1 in /opt/homebrew/lib/python3.11/site-packages (from matplotlib) (3.1.2)\n",
            "Requirement already satisfied: absl-py>=1.0.0 in /opt/homebrew/lib/python3.11/site-packages (from tensorflow) (2.1.0)\n",
            "Requirement already satisfied: astunparse>=1.6.0 in /opt/homebrew/lib/python3.11/site-packages (from tensorflow) (1.6.3)\n",
            "Requirement already satisfied: flatbuffers>=23.5.26 in /opt/homebrew/lib/python3.11/site-packages (from tensorflow) (24.3.25)\n",
            "Requirement already satisfied: gast!=0.5.0,!=0.5.1,!=0.5.2,>=0.2.1 in /opt/homebrew/lib/python3.11/site-packages (from tensorflow) (0.5.4)\n",
            "Requirement already satisfied: google-pasta>=0.1.1 in /opt/homebrew/lib/python3.11/site-packages (from tensorflow) (0.2.0)\n",
            "Requirement already satisfied: h5py>=3.10.0 in /opt/homebrew/lib/python3.11/site-packages (from tensorflow) (3.11.0)\n",
            "Requirement already satisfied: libclang>=13.0.0 in /opt/homebrew/lib/python3.11/site-packages (from tensorflow) (18.1.1)\n",
            "Requirement already satisfied: ml-dtypes~=0.3.1 in /opt/homebrew/lib/python3.11/site-packages (from tensorflow) (0.3.2)\n",
            "Requirement already satisfied: opt-einsum>=2.3.2 in /opt/homebrew/lib/python3.11/site-packages (from tensorflow) (3.3.0)\n",
            "Requirement already satisfied: protobuf!=4.21.0,!=4.21.1,!=4.21.2,!=4.21.3,!=4.21.4,!=4.21.5,<5.0.0dev,>=3.20.3 in /opt/homebrew/lib/python3.11/site-packages (from tensorflow) (4.25.3)\n",
            "Requirement already satisfied: requests<3,>=2.21.0 in /opt/homebrew/lib/python3.11/site-packages (from tensorflow) (2.31.0)\n",
            "Requirement already satisfied: setuptools in /opt/homebrew/lib/python3.11/site-packages (from tensorflow) (69.1.0)\n",
            "Requirement already satisfied: six>=1.12.0 in /Users/jim/Library/Python/3.11/lib/python/site-packages (from tensorflow) (1.16.0)\n",
            "Requirement already satisfied: termcolor>=1.1.0 in /opt/homebrew/lib/python3.11/site-packages (from tensorflow) (2.4.0)\n",
            "Requirement already satisfied: typing-extensions>=3.6.6 in /Users/jim/Library/Python/3.11/lib/python/site-packages (from tensorflow) (4.11.0)\n",
            "Requirement already satisfied: wrapt>=1.11.0 in /opt/homebrew/lib/python3.11/site-packages (from tensorflow) (1.16.0)\n",
            "Requirement already satisfied: grpcio<2.0,>=1.24.3 in /opt/homebrew/lib/python3.11/site-packages (from tensorflow) (1.62.2)\n",
            "Requirement already satisfied: tensorboard<2.17,>=2.16 in /opt/homebrew/lib/python3.11/site-packages (from tensorflow) (2.16.2)\n",
            "INFO: pip is looking at multiple versions of tensorflow to determine which version is compatible with other requirements. This could take a while.\n",
            "Collecting tensorflow\n",
            "  Downloading tensorflow-2.15.1-cp311-cp311-macosx_12_0_arm64.whl.metadata (4.0 kB)\n",
            "Collecting wrapt<1.15,>=1.11.0 (from tensorflow)\n",
            "  Downloading wrapt-1.14.1-cp311-cp311-macosx_11_0_arm64.whl.metadata (6.7 kB)\n",
            "Requirement already satisfied: tensorflow-io-gcs-filesystem>=0.23.1 in /opt/homebrew/lib/python3.11/site-packages (from tensorflow) (0.36.0)\n",
            "Collecting tensorboard<2.16,>=2.15 (from tensorflow)\n",
            "  Downloading tensorboard-2.15.2-py3-none-any.whl.metadata (1.7 kB)\n",
            "Collecting tensorflow-estimator<2.16,>=2.15.0 (from tensorflow)\n",
            "  Downloading tensorflow_estimator-2.15.0-py2.py3-none-any.whl.metadata (1.3 kB)\n",
            "Requirement already satisfied: scipy>=1.6.0 in /opt/homebrew/lib/python3.11/site-packages (from scikit-learn) (1.13.0)\n",
            "Requirement already satisfied: joblib>=1.2.0 in /opt/homebrew/lib/python3.11/site-packages (from scikit-learn) (1.4.0)\n",
            "Requirement already satisfied: threadpoolctl>=2.0.0 in /opt/homebrew/lib/python3.11/site-packages (from scikit-learn) (3.4.0)\n",
            "Requirement already satisfied: wheel<1.0,>=0.23.0 in /opt/homebrew/lib/python3.11/site-packages (from astunparse>=1.6.0->tensorflow) (0.42.0)\n",
            "Collecting google-auth<3,>=1.6.3 (from tensorboard<2.16,>=2.15->tensorflow)\n",
            "  Downloading google_auth-2.29.0-py2.py3-none-any.whl.metadata (4.7 kB)\n",
            "Collecting google-auth-oauthlib<2,>=0.5 (from tensorboard<2.16,>=2.15->tensorflow)\n",
            "  Downloading google_auth_oauthlib-1.2.0-py2.py3-none-any.whl.metadata (2.7 kB)\n",
            "Requirement already satisfied: markdown>=2.6.8 in /opt/homebrew/lib/python3.11/site-packages (from tensorboard<2.16,>=2.15->tensorflow) (3.6)\n",
            "Requirement already satisfied: tensorboard-data-server<0.8.0,>=0.7.0 in /opt/homebrew/lib/python3.11/site-packages (from tensorboard<2.16,>=2.15->tensorflow) (0.7.2)\n",
            "Requirement already satisfied: werkzeug>=1.0.1 in /opt/homebrew/lib/python3.11/site-packages (from tensorboard<2.16,>=2.15->tensorflow) (3.0.2)\n",
            "Collecting cachetools<6.0,>=2.0.0 (from google-auth<3,>=1.6.3->tensorboard<2.16,>=2.15->tensorflow)\n",
            "  Downloading cachetools-5.3.3-py3-none-any.whl.metadata (5.3 kB)\n",
            "Collecting pyasn1-modules>=0.2.1 (from google-auth<3,>=1.6.3->tensorboard<2.16,>=2.15->tensorflow)\n",
            "  Downloading pyasn1_modules-0.4.0-py3-none-any.whl.metadata (3.4 kB)\n",
            "Collecting rsa<5,>=3.1.4 (from google-auth<3,>=1.6.3->tensorboard<2.16,>=2.15->tensorflow)\n",
            "  Downloading rsa-4.9-py3-none-any.whl.metadata (4.2 kB)\n",
            "Collecting requests-oauthlib>=0.7.0 (from google-auth-oauthlib<2,>=0.5->tensorboard<2.16,>=2.15->tensorflow)\n",
            "  Downloading requests_oauthlib-2.0.0-py2.py3-none-any.whl.metadata (11 kB)\n",
            "Requirement already satisfied: charset-normalizer<4,>=2 in /opt/homebrew/lib/python3.11/site-packages (from requests<3,>=2.21.0->tensorflow) (3.3.2)\n",
            "Requirement already satisfied: idna<4,>=2.5 in /opt/homebrew/lib/python3.11/site-packages (from requests<3,>=2.21.0->tensorflow) (3.7)\n",
            "Requirement already satisfied: urllib3<3,>=1.21.1 in /opt/homebrew/lib/python3.11/site-packages (from requests<3,>=2.21.0->tensorflow) (2.2.1)\n",
            "Requirement already satisfied: certifi>=2017.4.17 in /opt/homebrew/lib/python3.11/site-packages (from requests<3,>=2.21.0->tensorflow) (2024.2.2)\n",
            "Requirement already satisfied: MarkupSafe>=2.1.1 in /opt/homebrew/lib/python3.11/site-packages (from werkzeug>=1.0.1->tensorboard<2.16,>=2.15->tensorflow) (2.1.5)\n",
            "Collecting pyasn1<0.7.0,>=0.4.6 (from pyasn1-modules>=0.2.1->google-auth<3,>=1.6.3->tensorboard<2.16,>=2.15->tensorflow)\n",
            "  Downloading pyasn1-0.6.0-py2.py3-none-any.whl.metadata (8.3 kB)\n",
            "Collecting oauthlib>=3.0.0 (from requests-oauthlib>=0.7.0->google-auth-oauthlib<2,>=0.5->tensorboard<2.16,>=2.15->tensorflow)\n",
            "  Downloading oauthlib-3.2.2-py3-none-any.whl.metadata (7.5 kB)\n",
            "Downloading keras-2.15.0-py3-none-any.whl (1.7 MB)\n",
            "\u001b[2K   \u001b[90m━━━━━━━━━━━━━━━━━━━━━━━━━━━━━━━━━━━━━━━━\u001b[0m \u001b[32m1.7/1.7 MB\u001b[0m \u001b[31m4.1 MB/s\u001b[0m eta \u001b[36m0:00:00\u001b[0m00:01\u001b[0m00:01\u001b[0m\n",
            "\u001b[?25hDownloading tensorflow-2.15.1-cp311-cp311-macosx_12_0_arm64.whl (205.7 MB)\n",
            "\u001b[2K   \u001b[90m━━━━━━━━━━━━━━━━━━━━━━━━━━━━━━━━━━━━━━━━\u001b[0m \u001b[32m205.7/205.7 MB\u001b[0m \u001b[31m1.8 MB/s\u001b[0m eta \u001b[36m0:00:00\u001b[0m00:01\u001b[0m00:03\u001b[0m\n",
            "\u001b[?25hDownloading tensorboard-2.15.2-py3-none-any.whl (5.5 MB)\n",
            "\u001b[2K   \u001b[90m━━━━━━━━━━━━━━━━━━━━━━━━━━━━━━━━━━━━━━━━\u001b[0m \u001b[32m5.5/5.5 MB\u001b[0m \u001b[31m2.3 MB/s\u001b[0m eta \u001b[36m0:00:00\u001b[0m00:01\u001b[0m00:01\u001b[0m\n",
            "\u001b[?25hDownloading tensorflow_estimator-2.15.0-py2.py3-none-any.whl (441 kB)\n",
            "\u001b[2K   \u001b[90m━━━━━━━━━━━━━━━━━━━━━━━━━━━━━━━━━━━━━━━━\u001b[0m \u001b[32m442.0/442.0 kB\u001b[0m \u001b[31m2.4 MB/s\u001b[0m eta \u001b[36m0:00:00\u001b[0ma \u001b[36m0:00:01\u001b[0m\n",
            "\u001b[?25hDownloading wrapt-1.14.1-cp311-cp311-macosx_11_0_arm64.whl (36 kB)\n",
            "Downloading google_auth-2.29.0-py2.py3-none-any.whl (189 kB)\n",
            "\u001b[2K   \u001b[90m━━━━━━━━━━━━━━━━━━━━━━━━━━━━━━━━━━━━━━━━\u001b[0m \u001b[32m189.2/189.2 kB\u001b[0m \u001b[31m2.2 MB/s\u001b[0m eta \u001b[36m0:00:00\u001b[0ma \u001b[36m0:00:01\u001b[0m\n",
            "\u001b[?25hDownloading google_auth_oauthlib-1.2.0-py2.py3-none-any.whl (24 kB)\n",
            "Downloading cachetools-5.3.3-py3-none-any.whl (9.3 kB)\n",
            "Downloading pyasn1_modules-0.4.0-py3-none-any.whl (181 kB)\n",
            "\u001b[2K   \u001b[90m━━━━━━━━━━━━━━━━━━━━━━━━━━━━━━━━━━━━━━━━\u001b[0m \u001b[32m181.2/181.2 kB\u001b[0m \u001b[31m2.2 MB/s\u001b[0m eta \u001b[36m0:00:00\u001b[0ma \u001b[36m0:00:01\u001b[0m\n",
            "\u001b[?25hDownloading requests_oauthlib-2.0.0-py2.py3-none-any.whl (24 kB)\n",
            "Using cached rsa-4.9-py3-none-any.whl (34 kB)\n",
            "Using cached oauthlib-3.2.2-py3-none-any.whl (151 kB)\n",
            "Downloading pyasn1-0.6.0-py2.py3-none-any.whl (85 kB)\n",
            "\u001b[2K   \u001b[90m━━━━━━━━━━━━━━━━━━━━━━━━━━━━━━━━━━━━━━━━\u001b[0m \u001b[32m85.3/85.3 kB\u001b[0m \u001b[31m2.4 MB/s\u001b[0m eta \u001b[36m0:00:00\u001b[0m\n",
            "\u001b[?25hInstalling collected packages: wrapt, tensorflow-estimator, pyasn1, oauthlib, keras, cachetools, rsa, requests-oauthlib, pyasn1-modules, google-auth, google-auth-oauthlib, tensorboard, tensorflow\n",
            "  Attempting uninstall: wrapt\n",
            "    Found existing installation: wrapt 1.16.0\n",
            "    Uninstalling wrapt-1.16.0:\n",
            "      Successfully uninstalled wrapt-1.16.0\n",
            "  Attempting uninstall: keras\n",
            "    Found existing installation: keras 3.3.2\n",
            "    Uninstalling keras-3.3.2:\n",
            "      Successfully uninstalled keras-3.3.2\n",
            "  Attempting uninstall: tensorboard\n",
            "    Found existing installation: tensorboard 2.16.2\n",
            "    Uninstalling tensorboard-2.16.2:\n",
            "      Successfully uninstalled tensorboard-2.16.2\n",
            "  Attempting uninstall: tensorflow\n",
            "    Found existing installation: tensorflow 2.16.1\n",
            "    Uninstalling tensorflow-2.16.1:\n",
            "      Successfully uninstalled tensorflow-2.16.1\n",
            "Successfully installed cachetools-5.3.3 google-auth-2.29.0 google-auth-oauthlib-1.2.0 keras-2.15.0 oauthlib-3.2.2 pyasn1-0.6.0 pyasn1-modules-0.4.0 requests-oauthlib-2.0.0 rsa-4.9 tensorboard-2.15.2 tensorflow-2.15.1 tensorflow-estimator-2.15.0 wrapt-1.14.1\n",
            "Note: you may need to restart the kernel to use updated packages.\n"
          ]
        }
      ],
      "source": [
        "%pip install \"keras==2.15.0\" numpy pandas matplotlib tensorflow seaborn scikit-learn"
      ]
    },
    {
      "cell_type": "code",
      "execution_count": 1,
      "metadata": {
        "colab": {
          "base_uri": "https://localhost:8080/",
          "height": 50
        },
        "colab_type": "code",
        "id": "gqWabzlJ63nL",
        "outputId": "78765880-4bb8-41ca-923c-955826ee4301"
      },
      "outputs": [],
      "source": [
        "import numpy as np\n",
        "import pandas as pd\n",
        "import matplotlib.pyplot as plt\n",
        "import tensorflow as tf\n",
        "import seaborn as sns\n",
        "\n",
        "from sklearn.preprocessing import MinMaxScaler\n",
        "\n",
        "keras = tf.keras\n",
        "\n",
        "# set style of charts\n",
        "sns.set(style=\"darkgrid\")\n",
        "plt.rcParams['figure.figsize'] = [10, 10]"
      ]
    },
    {
      "cell_type": "code",
      "execution_count": 2,
      "metadata": {
        "colab": {},
        "colab_type": "code",
        "id": "cg1hfKCPldZG"
      },
      "outputs": [],
      "source": [
        "def plot_series(time, series, format=\"-\", start=0, end=None, label=None):\n",
        "    plt.plot(time[start:end], series[start:end], format, label=label)\n",
        "    plt.xlabel(\"Time\")\n",
        "    plt.ylabel(\"Value\")\n",
        "    if label:\n",
        "        plt.legend(fontsize=14)\n",
        "    plt.grid(True)\n",
        "    \n",
        "\n",
        "def sequential_window_dataset(series, window_size):\n",
        "    ds = tf.data.Dataset.from_tensor_slices(series)\n",
        "    ds = ds.window(window_size + 1, shift=window_size, drop_remainder=True)\n",
        "    ds = ds.flat_map(lambda window: window.batch(window_size + 1))\n",
        "    ds = ds.map(lambda window: (window[:-1], window[1:]))\n",
        "    return ds.batch(1).prefetch(1)"
      ]
    },
    {
      "cell_type": "code",
      "execution_count": 5,
      "metadata": {
        "colab": {},
        "colab_type": "code",
        "id": "iL2DDjV3lel6"
      },
      "outputs": [],
      "source": [
        "# Read in data\n",
        "spy = pd.read_csv('../SPY.csv')\n",
        "\n",
        "# Convert series into datetime type\n",
        "spy['Date'] = pd.to_datetime(spy['Date'])\n",
        "\n",
        "# Save target series\n",
        "series = spy['Close']\n",
        "\n",
        "# Create train data set\n",
        "train_split_date = '2014-12-31'\n",
        "train_split_index = np.where(spy.Date == train_split_date)[0][0]\n",
        "x_train = spy.loc[spy['Date'] <= train_split_date]['Close']\n",
        "\n",
        "# Create test data set\n",
        "test_split_date = '2019-01-02'\n",
        "test_split_index = np.where(spy.Date == test_split_date)[0][0]\n",
        "x_test = spy.loc[spy['Date'] >= test_split_date]['Close']\n",
        "\n",
        "# Create valid data set\n",
        "valid_split_index = (train_split_index.max(),test_split_index.min())\n",
        "x_valid = spy.loc[(spy['Date'] < test_split_date) & (spy['Date'] > train_split_date)]['Close']"
      ]
    },
    {
      "cell_type": "code",
      "execution_count": 6,
      "metadata": {
        "colab": {
          "base_uri": "https://localhost:8080/",
          "height": 283
        },
        "colab_type": "code",
        "id": "5BO5R1yY6moY",
        "outputId": "b5f0d87d-8697-4574-d53a-1243a2bfa158"
      },
      "outputs": [
        {
          "name": "stdout",
          "output_type": "stream",
          "text": [
            "5521 5522 6527 6528 6949\n"
          ]
        },
        {
          "data": {
            "image/png": "[encoded data removed]",
            "text/plain": [
              "<Figure size 1000x1000 with 1 Axes>"
            ]
          },
          "metadata": {},
          "output_type": "display_data"
        }
      ],
      "source": [
        "# Plot all lines on one chart to see where one segment starts and another ends\n",
        "plt.plot(x_train, label = 'Train')\n",
        "plt.plot(x_valid, label = 'Validate')\n",
        "plt.plot(x_test, label = 'Test')\n",
        "plt.legend()\n",
        "print(x_train.index.max(),x_valid.index.min(),x_valid.index.max(),x_test.index.min(),x_test.index.max())"
      ]
    },
    {
      "cell_type": "code",
      "execution_count": 7,
      "metadata": {
        "colab": {},
        "colab_type": "code",
        "id": "1GiizAJ_oQjk"
      },
      "outputs": [],
      "source": [
        "# Reshape values\n",
        "x_train_values = x_train.values.reshape(-1, 1)\n",
        "x_valid_values = x_valid.values.reshape(-1, 1)\n",
        "x_test_values = x_test.values.reshape(-1, 1)\n",
        "\n",
        "#  Create Scaler Object\n",
        "x_train_scaler = MinMaxScaler(feature_range=(0, 1))\n",
        "\n",
        "# Fit x_train values\n",
        "normalized_x_train = x_train_scaler.fit_transform(x_train_values)\n",
        "\n",
        "# Fit x_valid values\n",
        "normalized_x_valid = x_train_scaler.transform(x_valid_values)\n",
        "\n",
        "# Fit x_test values\n",
        "normalized_x_test = x_train_scaler.transform(x_test_values)\n",
        "\n",
        "# All values normalized to training data\n",
        "spy_normalized_to_traindata = x_train_scaler.transform(series.values.reshape(-1, 1))\n",
        "\n",
        "# Example of how to iverse\n",
        "# inversed = scaler.inverse_transform(normalized_x_train).flatten()"
      ]
    },
    {
      "cell_type": "code",
      "execution_count": 8,
      "metadata": {
        "colab": {},
        "colab_type": "code",
        "id": "9fPenJpTtuDE"
      },
      "outputs": [],
      "source": [
        "class ResetStatesCallback(keras.callbacks.Callback):\n",
        "    def on_epoch_begin(self, epoch, logs):\n",
        "        self.model.reset_states()"
      ]
    },
    {
      "cell_type": "markdown",
      "metadata": {
        "colab_type": "text",
        "id": "EPjK0l9P8OJM"
      },
      "source": [
        "## Find the learning Rate"
      ]
    },
    {
      "cell_type": "code",
      "execution_count": 11,
      "metadata": {
        "colab": {
          "base_uri": "https://localhost:8080/",
          "height": 1000
        },
        "colab_type": "code",
        "id": "cSoUmW-x8OJN",
        "outputId": "49f3a9fa-1e42-4be4-ec13-77971aba21d6"
      },
      "outputs": [
        {
          "name": "stdout",
          "output_type": "stream",
          "text": [
            "Epoch 1/100\n",
            "276/276 [==============================] - 3s 6ms/step - loss: 0.0103 - mae: 0.1146 - lr: 1.0000e-05\n",
            "Epoch 2/100\n",
            "276/276 [==============================] - 2s 6ms/step - loss: 6.8224e-04 - mae: 0.0266 - lr: 1.1220e-05\n",
            "Epoch 3/100\n",
            "276/276 [==============================] - 2s 6ms/step - loss: 4.5199e-04 - mae: 0.0220 - lr: 1.2589e-05\n",
            "Epoch 4/100\n",
            "276/276 [==============================] - 2s 7ms/step - loss: 3.1139e-04 - mae: 0.0189 - lr: 1.4125e-05\n",
            "Epoch 5/100\n",
            "276/276 [==============================] - 2s 6ms/step - loss: 2.3049e-04 - mae: 0.0167 - lr: 1.5849e-05\n",
            "Epoch 6/100\n",
            "276/276 [==============================] - 2s 6ms/step - loss: 1.8736e-04 - mae: 0.0152 - lr: 1.7783e-05\n",
            "Epoch 7/100\n",
            "276/276 [==============================] - 2s 6ms/step - loss: 1.6513e-04 - mae: 0.0143 - lr: 1.9953e-05\n",
            "Epoch 8/100\n",
            "276/276 [==============================] - 2s 7ms/step - loss: 1.5336e-04 - mae: 0.0136 - lr: 2.2387e-05\n",
            "Epoch 9/100\n",
            "276/276 [==============================] - 2s 6ms/step - loss: 1.4672e-04 - mae: 0.0131 - lr: 2.5119e-05\n",
            "Epoch 10/100\n",
            "276/276 [==============================] - 2s 6ms/step - loss: 1.4265e-04 - mae: 0.0128 - lr: 2.8184e-05\n",
            "Epoch 11/100\n",
            "276/276 [==============================] - 2s 6ms/step - loss: 1.3991e-04 - mae: 0.0126 - lr: 3.1623e-05\n",
            "Epoch 12/100\n",
            "276/276 [==============================] - 2s 6ms/step - loss: 1.3788e-04 - mae: 0.0124 - lr: 3.5481e-05\n",
            "Epoch 13/100\n",
            "276/276 [==============================] - 2s 6ms/step - loss: 1.3618e-04 - mae: 0.0123 - lr: 3.9811e-05\n",
            "Epoch 14/100\n",
            "276/276 [==============================] - 2s 6ms/step - loss: 1.3460e-04 - mae: 0.0122 - lr: 4.4668e-05\n",
            "Epoch 15/100\n",
            "276/276 [==============================] - 2s 6ms/step - loss: 1.3302e-04 - mae: 0.0121 - lr: 5.0119e-05\n",
            "Epoch 16/100\n",
            "276/276 [==============================] - 2s 6ms/step - loss: 1.3138e-04 - mae: 0.0120 - lr: 5.6234e-05\n",
            "Epoch 17/100\n",
            "276/276 [==============================] - 2s 6ms/step - loss: 1.2965e-04 - mae: 0.0119 - lr: 6.3096e-05\n",
            "Epoch 18/100\n",
            "276/276 [==============================] - 2s 6ms/step - loss: 1.2783e-04 - mae: 0.0118 - lr: 7.0795e-05\n",
            "Epoch 19/100\n",
            "276/276 [==============================] - 2s 6ms/step - loss: 1.2594e-04 - mae: 0.0117 - lr: 7.9433e-05\n",
            "Epoch 20/100\n",
            "276/276 [==============================] - 2s 7ms/step - loss: 1.2401e-04 - mae: 0.0116 - lr: 8.9125e-05\n",
            "Epoch 21/100\n",
            "276/276 [==============================] - 2s 6ms/step - loss: 1.2208e-04 - mae: 0.0115 - lr: 1.0000e-04\n",
            "Epoch 22/100\n",
            "276/276 [==============================] - 2s 6ms/step - loss: 1.2018e-04 - mae: 0.0114 - lr: 1.1220e-04\n",
            "Epoch 23/100\n",
            "276/276 [==============================] - 2s 6ms/step - loss: 1.1836e-04 - mae: 0.0113 - lr: 1.2589e-04\n",
            "Epoch 24/100\n",
            "276/276 [==============================] - 2s 6ms/step - loss: 1.1671e-04 - mae: 0.0112 - lr: 1.4125e-04\n",
            "Epoch 25/100\n",
            "276/276 [==============================] - 2s 7ms/step - loss: 1.1528e-04 - mae: 0.0111 - lr: 1.5849e-04\n",
            "Epoch 26/100\n",
            "276/276 [==============================] - 2s 6ms/step - loss: 1.1417e-04 - mae: 0.0110 - lr: 1.7783e-04\n",
            "Epoch 27/100\n",
            "276/276 [==============================] - 2s 6ms/step - loss: 1.1341e-04 - mae: 0.0110 - lr: 1.9953e-04\n",
            "Epoch 28/100\n",
            "276/276 [==============================] - 2s 6ms/step - loss: 1.1300e-04 - mae: 0.0109 - lr: 2.2387e-04\n",
            "Epoch 29/100\n",
            "276/276 [==============================] - 2s 7ms/step - loss: 1.1287e-04 - mae: 0.0109 - lr: 2.5119e-04\n",
            "Epoch 30/100\n",
            "276/276 [==============================] - 2s 6ms/step - loss: 1.1299e-04 - mae: 0.0108 - lr: 2.8184e-04\n",
            "Epoch 31/100\n",
            "276/276 [==============================] - 2s 6ms/step - loss: 1.1336e-04 - mae: 0.0107 - lr: 3.1623e-04\n",
            "Epoch 32/100\n",
            "276/276 [==============================] - 2s 6ms/step - loss: 1.1405e-04 - mae: 0.0107 - lr: 3.5481e-04\n",
            "Epoch 33/100\n",
            "276/276 [==============================] - 2s 6ms/step - loss: 1.1510e-04 - mae: 0.0106 - lr: 3.9811e-04\n",
            "Epoch 34/100\n",
            "276/276 [==============================] - 2s 6ms/step - loss: 1.1658e-04 - mae: 0.0106 - lr: 4.4668e-04\n",
            "Epoch 35/100\n",
            "276/276 [==============================] - 2s 6ms/step - loss: 1.1858e-04 - mae: 0.0106 - lr: 5.0119e-04\n",
            "Epoch 36/100\n",
            "276/276 [==============================] - 2s 6ms/step - loss: 1.2100e-04 - mae: 0.0105 - lr: 5.6234e-04\n",
            "Epoch 37/100\n",
            "276/276 [==============================] - 2s 6ms/step - loss: 1.2197e-04 - mae: 0.0104 - lr: 6.3096e-04\n",
            "Epoch 38/100\n",
            "276/276 [==============================] - 2s 7ms/step - loss: 1.2421e-04 - mae: 0.0104 - lr: 7.0795e-04\n",
            "Epoch 39/100\n",
            "276/276 [==============================] - 2s 6ms/step - loss: 1.2576e-04 - mae: 0.0103 - lr: 7.9433e-04\n",
            "Epoch 40/100\n",
            "276/276 [==============================] - 2s 6ms/step - loss: 1.2507e-04 - mae: 0.0102 - lr: 8.9125e-04\n",
            "Epoch 41/100\n",
            "276/276 [==============================] - 2s 6ms/step - loss: 1.2497e-04 - mae: 0.0101 - lr: 0.0010\n",
            "Epoch 42/100\n",
            "276/276 [==============================] - 2s 6ms/step - loss: 1.2467e-04 - mae: 0.0100 - lr: 0.0011\n",
            "Epoch 43/100\n",
            "276/276 [==============================] - 2s 6ms/step - loss: 1.2416e-04 - mae: 0.0098 - lr: 0.0013\n",
            "Epoch 44/100\n",
            "276/276 [==============================] - 2s 6ms/step - loss: 1.1667e-04 - mae: 0.0095 - lr: 0.0014\n",
            "Epoch 45/100\n",
            "276/276 [==============================] - 2s 6ms/step - loss: 1.0737e-04 - mae: 0.0091 - lr: 0.0016\n",
            "Epoch 46/100\n",
            "276/276 [==============================] - 2s 7ms/step - loss: 9.3138e-05 - mae: 0.0086 - lr: 0.0018\n",
            "Epoch 47/100\n",
            "276/276 [==============================] - 2s 6ms/step - loss: 8.6335e-05 - mae: 0.0084 - lr: 0.0020\n",
            "Epoch 48/100\n",
            "276/276 [==============================] - 2s 6ms/step - loss: 8.0226e-05 - mae: 0.0083 - lr: 0.0022\n",
            "Epoch 49/100\n",
            "276/276 [==============================] - 2s 7ms/step - loss: 8.0586e-05 - mae: 0.0085 - lr: 0.0025\n",
            "Epoch 50/100\n",
            "276/276 [==============================] - 2s 6ms/step - loss: 1.1460e-04 - mae: 0.0095 - lr: 0.0028\n",
            "Epoch 51/100\n",
            "276/276 [==============================] - 2s 6ms/step - loss: 2.6178e-04 - mae: 0.0142 - lr: 0.0032\n",
            "Epoch 52/100\n",
            "276/276 [==============================] - 2s 6ms/step - loss: 5.5116e-04 - mae: 0.0185 - lr: 0.0035\n",
            "Epoch 53/100\n",
            "276/276 [==============================] - 2s 7ms/step - loss: 3.6134e-04 - mae: 0.0137 - lr: 0.0040\n",
            "Epoch 54/100\n",
            "276/276 [==============================] - 2s 6ms/step - loss: 1.9609e-04 - mae: 0.0095 - lr: 0.0045\n",
            "Epoch 55/100\n",
            "276/276 [==============================] - 2s 6ms/step - loss: 6.1350e-05 - mae: 0.0071 - lr: 0.0050\n",
            "Epoch 56/100\n",
            "276/276 [==============================] - 2s 9ms/step - loss: 6.7298e-05 - mae: 0.0070 - lr: 0.0056\n",
            "Epoch 57/100\n",
            "276/276 [==============================] - 3s 11ms/step - loss: 6.7495e-05 - mae: 0.0074 - lr: 0.0063\n",
            "Epoch 58/100\n",
            "276/276 [==============================] - 2s 7ms/step - loss: 8.1238e-05 - mae: 0.0078 - lr: 0.0071\n",
            "Epoch 59/100\n",
            "276/276 [==============================] - 2s 6ms/step - loss: 8.4306e-05 - mae: 0.0081 - lr: 0.0079\n",
            "Epoch 60/100\n",
            "276/276 [==============================] - 2s 9ms/step - loss: 1.0897e-04 - mae: 0.0083 - lr: 0.0089\n",
            "Epoch 61/100\n",
            "276/276 [==============================] - 4s 15ms/step - loss: 0.0010 - mae: 0.0223 - lr: 0.0100\n",
            "Epoch 62/100\n",
            "276/276 [==============================] - 4s 13ms/step - loss: 0.0010 - mae: 0.0218 - lr: 0.0112\n",
            "Epoch 63/100\n",
            "276/276 [==============================] - 3s 12ms/step - loss: 0.0031 - mae: 0.0288 - lr: 0.0126\n",
            "Epoch 64/100\n",
            "276/276 [==============================] - 4s 13ms/step - loss: 0.0029 - mae: 0.0351 - lr: 0.0141\n",
            "Epoch 65/100\n",
            "276/276 [==============================] - 3s 12ms/step - loss: 0.0053 - mae: 0.0587 - lr: 0.0158\n",
            "Epoch 66/100\n",
            "276/276 [==============================] - 4s 13ms/step - loss: 0.0080 - mae: 0.0433 - lr: 0.0178\n",
            "Epoch 67/100\n",
            "276/276 [==============================] - 2s 7ms/step - loss: 0.0039 - mae: 0.0303 - lr: 0.0200\n",
            "Epoch 68/100\n",
            "276/276 [==============================] - 2s 7ms/step - loss: 0.0035 - mae: 0.0373 - lr: 0.0224\n",
            "Epoch 69/100\n",
            "276/276 [==============================] - 2s 6ms/step - loss: 0.0017 - mae: 0.0254 - lr: 0.0251\n",
            "Epoch 70/100\n",
            "276/276 [==============================] - 2s 6ms/step - loss: 0.0028 - mae: 0.0282 - lr: 0.0282\n",
            "Epoch 71/100\n",
            "276/276 [==============================] - 2s 7ms/step - loss: 0.0068 - mae: 0.0425 - lr: 0.0316\n",
            "Epoch 72/100\n",
            "276/276 [==============================] - 2s 6ms/step - loss: 6.5642e-04 - mae: 0.0263 - lr: 0.0355\n",
            "Epoch 73/100\n",
            "276/276 [==============================] - 2s 6ms/step - loss: 0.0048 - mae: 0.0437 - lr: 0.0398\n",
            "Epoch 74/100\n",
            "276/276 [==============================] - 2s 7ms/step - loss: 0.0035 - mae: 0.0264 - lr: 0.0447\n",
            "Epoch 75/100\n",
            "276/276 [==============================] - 2s 6ms/step - loss: 0.0049 - mae: 0.0301 - lr: 0.0501\n",
            "Epoch 76/100\n",
            "276/276 [==============================] - 2s 6ms/step - loss: 0.0036 - mae: 0.0345 - lr: 0.0562\n",
            "Epoch 77/100\n",
            "276/276 [==============================] - 2s 6ms/step - loss: 0.0037 - mae: 0.0355 - lr: 0.0631\n",
            "Epoch 78/100\n",
            "276/276 [==============================] - 2s 6ms/step - loss: 0.0029 - mae: 0.0242 - lr: 0.0708\n",
            "Epoch 79/100\n",
            "276/276 [==============================] - 2s 6ms/step - loss: 0.0081 - mae: 0.0318 - lr: 0.0794\n",
            "Epoch 80/100\n",
            "276/276 [==============================] - 2s 7ms/step - loss: 6.7387e-04 - mae: 0.0191 - lr: 0.0891\n",
            "Epoch 81/100\n",
            "276/276 [==============================] - 3s 10ms/step - loss: 0.0025 - mae: 0.0235 - lr: 0.1000\n",
            "Epoch 82/100\n",
            "276/276 [==============================] - 2s 7ms/step - loss: 0.0027 - mae: 0.0238 - lr: 0.1122\n",
            "Epoch 83/100\n",
            "276/276 [==============================] - 2s 7ms/step - loss: 0.0026 - mae: 0.0237 - lr: 0.1259\n",
            "Epoch 84/100\n",
            "276/276 [==============================] - 2s 7ms/step - loss: 0.0047 - mae: 0.0324 - lr: 0.1413\n",
            "Epoch 85/100\n",
            "276/276 [==============================] - 2s 6ms/step - loss: 0.0304 - mae: 0.0872 - lr: 0.1585\n",
            "Epoch 86/100\n",
            "276/276 [==============================] - 2s 6ms/step - loss: 0.2040 - mae: 0.3582 - lr: 0.1778\n",
            "Epoch 87/100\n",
            "276/276 [==============================] - 2s 6ms/step - loss: 0.3852 - mae: 0.6821 - lr: 0.1995\n",
            "Epoch 88/100\n",
            "276/276 [==============================] - 2s 7ms/step - loss: 0.0830 - mae: 0.2560 - lr: 0.2239\n",
            "Epoch 89/100\n",
            "276/276 [==============================] - 2s 6ms/step - loss: 0.2013 - mae: 0.4666 - lr: 0.2512\n",
            "Epoch 90/100\n",
            "276/276 [==============================] - 2s 6ms/step - loss: 0.4101 - mae: 0.7824 - lr: 0.2818\n",
            "Epoch 91/100\n",
            "276/276 [==============================] - 2s 7ms/step - loss: 0.4444 - mae: 0.8726 - lr: 0.3162\n",
            "Epoch 92/100\n",
            "276/276 [==============================] - 2s 6ms/step - loss: 0.3969 - mae: 0.8392 - lr: 0.3548\n",
            "Epoch 93/100\n",
            "276/276 [==============================] - 2s 6ms/step - loss: 0.6388 - mae: 1.1282 - lr: 0.3981\n",
            "Epoch 94/100\n",
            "276/276 [==============================] - 2s 6ms/step - loss: 0.4629 - mae: 0.9239 - lr: 0.4467\n",
            "Epoch 95/100\n",
            "276/276 [==============================] - 2s 6ms/step - loss: 0.6302 - mae: 1.1285 - lr: 0.5012\n",
            "Epoch 96/100\n",
            "276/276 [==============================] - 2s 7ms/step - loss: 0.6291 - mae: 1.1190 - lr: 0.5623\n",
            "Epoch 97/100\n",
            "276/276 [==============================] - 2s 7ms/step - loss: 0.8342 - mae: 1.3342 - lr: 0.6310\n",
            "Epoch 98/100\n",
            "276/276 [==============================] - 2s 6ms/step - loss: 0.8420 - mae: 1.3405 - lr: 0.7079\n",
            "Epoch 99/100\n",
            "276/276 [==============================] - 2s 6ms/step - loss: 0.9224 - mae: 1.4209 - lr: 0.7943\n",
            "Epoch 100/100\n",
            "276/276 [==============================] - 2s 7ms/step - loss: 1.0538 - mae: 1.5499 - lr: 0.8913\n"
          ]
        }
      ],
      "source": [
        "# reset any stored data\n",
        "keras.backend.clear_session()\n",
        "tf.random.set_seed(42)\n",
        "np.random.seed(42)\n",
        "\n",
        "# Set window size and create input batch sequences\n",
        "window_size = 20\n",
        "train_set = sequential_window_dataset(normalized_x_train, window_size)\n",
        "\n",
        "# create model\n",
        "model = keras.models.Sequential([\n",
        "  keras.layers.LSTM(100, return_sequences=True, stateful=True,\n",
        "                    batch_input_shape=[1, None, 1]),\n",
        "  keras.layers.LSTM(100, return_sequences=True, stateful=True),\n",
        "  keras.layers.Dense(1),\n",
        "])\n",
        "\n",
        "# create lr\n",
        "lr_schedule = keras.callbacks.LearningRateScheduler(\n",
        "    lambda epoch: 1e-5 * 10**(epoch / 20))\n",
        "reset_states = ResetStatesCallback()\n",
        "\n",
        "# choose optimizer\n",
        "# WARNING:absl:At this time, the v2.11+ optimizer `tf.keras.optimizers.Nadam` runs slowly on M1/M2 Macs, please use the legacy Keras optimizer instead, located at `tf.keras.optimizers.legacy.Nadam`.\n",
        "# WARNING:absl:`lr` is deprecated in Keras optimizer, please use `learning_rate` or use the legacy optimizer, e.g.,tf.keras.optimizers.legacy.Nadam.\n",
        "# optimizer = keras.optimizers.Nadam(lr=1e-5)\n",
        "optimizer = keras.optimizers.legacy.Nadam(learning_rate=1e-5)\n",
        "\n",
        "# compile model\n",
        "model.compile(loss=keras.losses.Huber(),\n",
        "              optimizer=optimizer,\n",
        "              metrics=[\"mae\"])\n",
        "\n",
        "# set history\n",
        "history = model.fit(train_set, epochs=100,\n",
        "                    callbacks=[lr_schedule, reset_states])"
      ]
    },
    {
      "cell_type": "code",
      "execution_count": 12,
      "metadata": {
        "colab": {
          "base_uri": "https://localhost:8080/",
          "height": 293
        },
        "colab_type": "code",
        "id": "KA0GM9sQ8OJO",
        "outputId": "f8484d5a-5417-45cc-e0b9-0273d6c44c4e"
      },
      "outputs": [
        {
          "data": {
            "text/plain": [
              "(1e-08, 1.0, 0.0, 0.01)"
            ]
          },
          "execution_count": 12,
          "metadata": {},
          "output_type": "execute_result"
        },
        {
          "data": {
            "image/png": "[encoded data removed]",
            "text/plain": [
              "<Figure size 1000x1000 with 1 Axes>"
            ]
          },
          "metadata": {},
          "output_type": "display_data"
        }
      ],
      "source": [
        "# Plot the learning rate chart\n",
        "plt.semilogx(history.history[\"lr\"], history.history[\"loss\"])\n",
        "plt.axis([1e-8, 1, 0, 0.01])"
      ]
    },
    {
      "cell_type": "markdown",
      "metadata": {
        "colab_type": "text",
        "id": "7EyiYesc-EPU"
      },
      "source": [
        "## Build and Train LSTM Model"
      ]
    },
    {
      "cell_type": "code",
      "execution_count": 14,
      "metadata": {
        "colab": {
          "base_uri": "https://localhost:8080/",
          "height": 1000
        },
        "colab_type": "code",
        "id": "hiHR5pPL8OJP",
        "outputId": "f45ec9c3-b1c0-4e87-b3ab-32c137222988"
      },
      "outputs": [
        {
          "name": "stdout",
          "output_type": "stream",
          "text": [
            "Epoch 1/500\n",
            "    184/Unknown - 3s 9ms/step - loss: 2.0827e-04 - mae: 0.0147INFO:tensorflow:Assets written to: my_checkpoint/assets\n"
          ]
        },
        {
          "name": "stderr",
          "output_type": "stream",
          "text": [
            "INFO:tensorflow:Assets written to: my_checkpoint/assets\n"
          ]
        },
        {
          "name": "stdout",
          "output_type": "stream",
          "text": [
            "184/184 [==============================] - 5s 20ms/step - loss: 2.0827e-04 - mae: 0.0147 - val_loss: 0.0043 - val_mae: 0.0708\n",
            "Epoch 2/500\n",
            "183/184 [============================>.] - ETA: 0s - loss: 3.2508e-04 - mae: 0.0169INFO:tensorflow:Assets written to: my_checkpoint/assets\n"
          ]
        },
        {
          "name": "stderr",
          "output_type": "stream",
          "text": [
            "INFO:tensorflow:Assets written to: my_checkpoint/assets\n"
          ]
        },
        {
          "name": "stdout",
          "output_type": "stream",
          "text": [
            "184/184 [==============================] - 4s 20ms/step - loss: 3.2421e-04 - mae: 0.0168 - val_loss: 0.0018 - val_mae: 0.0452\n",
            "Epoch 3/500\n",
            "183/184 [============================>.] - ETA: 0s - loss: 1.4585e-04 - mae: 0.0126INFO:tensorflow:Assets written to: my_checkpoint/assets\n"
          ]
        },
        {
          "name": "stderr",
          "output_type": "stream",
          "text": [
            "INFO:tensorflow:Assets written to: my_checkpoint/assets\n"
          ]
        },
        {
          "name": "stdout",
          "output_type": "stream",
          "text": [
            "184/184 [==============================] - 4s 19ms/step - loss: 1.4622e-04 - mae: 0.0126 - val_loss: 0.0011 - val_mae: 0.0346\n",
            "Epoch 4/500\n",
            "183/184 [============================>.] - ETA: 0s - loss: 1.1867e-04 - mae: 0.0113INFO:tensorflow:Assets written to: my_checkpoint/assets\n"
          ]
        },
        {
          "name": "stderr",
          "output_type": "stream",
          "text": [
            "INFO:tensorflow:Assets written to: my_checkpoint/assets\n"
          ]
        },
        {
          "name": "stdout",
          "output_type": "stream",
          "text": [
            "184/184 [==============================] - 4s 20ms/step - loss: 1.1933e-04 - mae: 0.0113 - val_loss: 8.5042e-04 - val_mae: 0.0315\n",
            "Epoch 5/500\n",
            "181/184 [============================>.] - ETA: 0s - loss: 1.0726e-04 - mae: 0.0106INFO:tensorflow:Assets written to: my_checkpoint/assets\n"
          ]
        },
        {
          "name": "stderr",
          "output_type": "stream",
          "text": [
            "INFO:tensorflow:Assets written to: my_checkpoint/assets\n"
          ]
        },
        {
          "name": "stdout",
          "output_type": "stream",
          "text": [
            "184/184 [==============================] - 3s 18ms/step - loss: 1.1153e-04 - mae: 0.0108 - val_loss: 7.7770e-04 - val_mae: 0.0302\n",
            "Epoch 6/500\n",
            "183/184 [============================>.] - ETA: 0s - loss: 1.0543e-04 - mae: 0.0105INFO:tensorflow:Assets written to: my_checkpoint/assets\n"
          ]
        },
        {
          "name": "stderr",
          "output_type": "stream",
          "text": [
            "INFO:tensorflow:Assets written to: my_checkpoint/assets\n"
          ]
        },
        {
          "name": "stdout",
          "output_type": "stream",
          "text": [
            "184/184 [==============================] - 4s 20ms/step - loss: 1.0609e-04 - mae: 0.0105 - val_loss: 7.3844e-04 - val_mae: 0.0294\n",
            "Epoch 7/500\n",
            "183/184 [============================>.] - ETA: 0s - loss: 1.0078e-04 - mae: 0.0102INFO:tensorflow:Assets written to: my_checkpoint/assets\n"
          ]
        },
        {
          "name": "stderr",
          "output_type": "stream",
          "text": [
            "INFO:tensorflow:Assets written to: my_checkpoint/assets\n"
          ]
        },
        {
          "name": "stdout",
          "output_type": "stream",
          "text": [
            "184/184 [==============================] - 3s 19ms/step - loss: 1.0141e-04 - mae: 0.0103 - val_loss: 7.1141e-04 - val_mae: 0.0288\n",
            "Epoch 8/500\n",
            "179/184 [============================>.] - ETA: 0s - loss: 9.3850e-05 - mae: 0.0099INFO:tensorflow:Assets written to: my_checkpoint/assets\n"
          ]
        },
        {
          "name": "stderr",
          "output_type": "stream",
          "text": [
            "INFO:tensorflow:Assets written to: my_checkpoint/assets\n"
          ]
        },
        {
          "name": "stdout",
          "output_type": "stream",
          "text": [
            "184/184 [==============================] - 3s 19ms/step - loss: 9.7183e-05 - mae: 0.0100 - val_loss: 6.9105e-04 - val_mae: 0.0282\n",
            "Epoch 9/500\n",
            "183/184 [============================>.] - ETA: 0s - loss: 9.2758e-05 - mae: 0.0098INFO:tensorflow:Assets written to: my_checkpoint/assets\n"
          ]
        },
        {
          "name": "stderr",
          "output_type": "stream",
          "text": [
            "INFO:tensorflow:Assets written to: my_checkpoint/assets\n"
          ]
        },
        {
          "name": "stdout",
          "output_type": "stream",
          "text": [
            "184/184 [==============================] - 4s 21ms/step - loss: 9.3322e-05 - mae: 0.0098 - val_loss: 6.7668e-04 - val_mae: 0.0278\n",
            "Epoch 10/500\n",
            "181/184 [============================>.] - ETA: 0s - loss: 8.7125e-05 - mae: 0.0095INFO:tensorflow:Assets written to: my_checkpoint/assets\n"
          ]
        },
        {
          "name": "stderr",
          "output_type": "stream",
          "text": [
            "INFO:tensorflow:Assets written to: my_checkpoint/assets\n"
          ]
        },
        {
          "name": "stdout",
          "output_type": "stream",
          "text": [
            "184/184 [==============================] - 3s 19ms/step - loss: 8.9766e-05 - mae: 0.0097 - val_loss: 6.6919e-04 - val_mae: 0.0276\n",
            "Epoch 11/500\n",
            "183/184 [============================>.] - ETA: 0s - loss: 8.5964e-05 - mae: 0.0094INFO:tensorflow:Assets written to: my_checkpoint/assets\n"
          ]
        },
        {
          "name": "stderr",
          "output_type": "stream",
          "text": [
            "INFO:tensorflow:Assets written to: my_checkpoint/assets\n"
          ]
        },
        {
          "name": "stdout",
          "output_type": "stream",
          "text": [
            "184/184 [==============================] - 4s 20ms/step - loss: 8.6485e-05 - mae: 0.0095 - val_loss: 6.6770e-04 - val_mae: 0.0274\n",
            "Epoch 12/500\n",
            "183/184 [============================>.] - ETA: 0s - loss: 8.2964e-05 - mae: 0.0093INFO:tensorflow:Assets written to: my_checkpoint/assets\n"
          ]
        },
        {
          "name": "stderr",
          "output_type": "stream",
          "text": [
            "INFO:tensorflow:Assets written to: my_checkpoint/assets\n"
          ]
        },
        {
          "name": "stdout",
          "output_type": "stream",
          "text": [
            "184/184 [==============================] - 4s 19ms/step - loss: 8.3477e-05 - mae: 0.0093 - val_loss: 6.6526e-04 - val_mae: 0.0273\n",
            "Epoch 13/500\n",
            "184/184 [==============================] - ETA: 0s - loss: 8.0769e-05 - mae: 0.0091INFO:tensorflow:Assets written to: my_checkpoint/assets\n"
          ]
        },
        {
          "name": "stderr",
          "output_type": "stream",
          "text": [
            "INFO:tensorflow:Assets written to: my_checkpoint/assets\n"
          ]
        },
        {
          "name": "stdout",
          "output_type": "stream",
          "text": [
            "184/184 [==============================] - 4s 20ms/step - loss: 8.0769e-05 - mae: 0.0091 - val_loss: 6.4696e-04 - val_mae: 0.0269\n",
            "Epoch 14/500\n",
            "183/184 [============================>.] - ETA: 0s - loss: 7.7849e-05 - mae: 0.0090INFO:tensorflow:Assets written to: my_checkpoint/assets\n"
          ]
        },
        {
          "name": "stderr",
          "output_type": "stream",
          "text": [
            "INFO:tensorflow:Assets written to: my_checkpoint/assets\n"
          ]
        },
        {
          "name": "stdout",
          "output_type": "stream",
          "text": [
            "184/184 [==============================] - 3s 19ms/step - loss: 7.8407e-05 - mae: 0.0090 - val_loss: 5.9984e-04 - val_mae: 0.0261\n",
            "Epoch 15/500\n",
            "181/184 [============================>.] - ETA: 0s - loss: 7.4214e-05 - mae: 0.0088INFO:tensorflow:Assets written to: my_checkpoint/assets\n"
          ]
        },
        {
          "name": "stderr",
          "output_type": "stream",
          "text": [
            "INFO:tensorflow:Assets written to: my_checkpoint/assets\n"
          ]
        },
        {
          "name": "stdout",
          "output_type": "stream",
          "text": [
            "184/184 [==============================] - 3s 19ms/step - loss: 7.6407e-05 - mae: 0.0089 - val_loss: 5.3651e-04 - val_mae: 0.0250\n",
            "Epoch 16/500\n",
            "183/184 [============================>.] - ETA: 0s - loss: 7.3944e-05 - mae: 0.0087INFO:tensorflow:Assets written to: my_checkpoint/assets\n"
          ]
        },
        {
          "name": "stderr",
          "output_type": "stream",
          "text": [
            "INFO:tensorflow:Assets written to: my_checkpoint/assets\n"
          ]
        },
        {
          "name": "stdout",
          "output_type": "stream",
          "text": [
            "184/184 [==============================] - 4s 21ms/step - loss: 7.4628e-05 - mae: 0.0088 - val_loss: 4.8811e-04 - val_mae: 0.0241\n",
            "Epoch 17/500\n",
            "182/184 [============================>.] - ETA: 0s - loss: 7.0855e-05 - mae: 0.0085INFO:tensorflow:Assets written to: my_checkpoint/assets\n"
          ]
        },
        {
          "name": "stderr",
          "output_type": "stream",
          "text": [
            "INFO:tensorflow:Assets written to: my_checkpoint/assets\n"
          ]
        },
        {
          "name": "stdout",
          "output_type": "stream",
          "text": [
            "184/184 [==============================] - 4s 19ms/step - loss: 7.2801e-05 - mae: 0.0086 - val_loss: 4.6078e-04 - val_mae: 0.0235\n",
            "Epoch 18/500\n",
            "182/184 [============================>.] - ETA: 0s - loss: 6.8994e-05 - mae: 0.0084INFO:tensorflow:Assets written to: my_checkpoint/assets\n"
          ]
        },
        {
          "name": "stderr",
          "output_type": "stream",
          "text": [
            "INFO:tensorflow:Assets written to: my_checkpoint/assets\n"
          ]
        },
        {
          "name": "stdout",
          "output_type": "stream",
          "text": [
            "184/184 [==============================] - 4s 20ms/step - loss: 7.0914e-05 - mae: 0.0085 - val_loss: 4.4195e-04 - val_mae: 0.0230\n",
            "Epoch 19/500\n",
            "179/184 [============================>.] - ETA: 0s - loss: 6.6992e-05 - mae: 0.0082INFO:tensorflow:Assets written to: my_checkpoint/assets\n"
          ]
        },
        {
          "name": "stderr",
          "output_type": "stream",
          "text": [
            "INFO:tensorflow:Assets written to: my_checkpoint/assets\n"
          ]
        },
        {
          "name": "stdout",
          "output_type": "stream",
          "text": [
            "184/184 [==============================] - 4s 19ms/step - loss: 6.9191e-05 - mae: 0.0084 - val_loss: 4.2574e-04 - val_mae: 0.0226\n",
            "Epoch 20/500\n",
            "181/184 [============================>.] - ETA: 0s - loss: 6.5506e-05 - mae: 0.0081INFO:tensorflow:Assets written to: my_checkpoint/assets\n"
          ]
        },
        {
          "name": "stderr",
          "output_type": "stream",
          "text": [
            "INFO:tensorflow:Assets written to: my_checkpoint/assets\n"
          ]
        },
        {
          "name": "stdout",
          "output_type": "stream",
          "text": [
            "184/184 [==============================] - 3s 18ms/step - loss: 6.7612e-05 - mae: 0.0083 - val_loss: 4.1155e-04 - val_mae: 0.0223\n",
            "Epoch 21/500\n",
            "182/184 [============================>.] - ETA: 0s - loss: 6.4279e-05 - mae: 0.0081INFO:tensorflow:Assets written to: my_checkpoint/assets\n"
          ]
        },
        {
          "name": "stderr",
          "output_type": "stream",
          "text": [
            "INFO:tensorflow:Assets written to: my_checkpoint/assets\n"
          ]
        },
        {
          "name": "stdout",
          "output_type": "stream",
          "text": [
            "184/184 [==============================] - 4s 21ms/step - loss: 6.6123e-05 - mae: 0.0082 - val_loss: 3.9891e-04 - val_mae: 0.0219\n",
            "Epoch 22/500\n",
            "184/184 [==============================] - ETA: 0s - loss: 6.4741e-05 - mae: 0.0081INFO:tensorflow:Assets written to: my_checkpoint/assets\n"
          ]
        },
        {
          "name": "stderr",
          "output_type": "stream",
          "text": [
            "INFO:tensorflow:Assets written to: my_checkpoint/assets\n"
          ]
        },
        {
          "name": "stdout",
          "output_type": "stream",
          "text": [
            "184/184 [==============================] - 4s 19ms/step - loss: 6.4741e-05 - mae: 0.0081 - val_loss: 3.8754e-04 - val_mae: 0.0216\n",
            "Epoch 23/500\n",
            "181/184 [============================>.] - ETA: 0s - loss: 6.1465e-05 - mae: 0.0079INFO:tensorflow:Assets written to: my_checkpoint/assets\n"
          ]
        },
        {
          "name": "stderr",
          "output_type": "stream",
          "text": [
            "INFO:tensorflow:Assets written to: my_checkpoint/assets\n"
          ]
        },
        {
          "name": "stdout",
          "output_type": "stream",
          "text": [
            "184/184 [==============================] - 4s 22ms/step - loss: 6.3446e-05 - mae: 0.0080 - val_loss: 3.7731e-04 - val_mae: 0.0214\n",
            "Epoch 24/500\n",
            "179/184 [============================>.] - ETA: 0s - loss: 6.0210e-05 - mae: 0.0078INFO:tensorflow:Assets written to: my_checkpoint/assets\n"
          ]
        },
        {
          "name": "stderr",
          "output_type": "stream",
          "text": [
            "INFO:tensorflow:Assets written to: my_checkpoint/assets\n"
          ]
        },
        {
          "name": "stdout",
          "output_type": "stream",
          "text": [
            "184/184 [==============================] - 3s 19ms/step - loss: 6.2241e-05 - mae: 0.0079 - val_loss: 3.6804e-04 - val_mae: 0.0211\n",
            "Epoch 25/500\n",
            "181/184 [============================>.] - ETA: 0s - loss: 5.9210e-05 - mae: 0.0077INFO:tensorflow:Assets written to: my_checkpoint/assets\n"
          ]
        },
        {
          "name": "stderr",
          "output_type": "stream",
          "text": [
            "INFO:tensorflow:Assets written to: my_checkpoint/assets\n"
          ]
        },
        {
          "name": "stdout",
          "output_type": "stream",
          "text": [
            "184/184 [==============================] - 4s 20ms/step - loss: 6.1110e-05 - mae: 0.0078 - val_loss: 3.5975e-04 - val_mae: 0.0209\n",
            "Epoch 26/500\n",
            "183/184 [============================>.] - ETA: 0s - loss: 5.9294e-05 - mae: 0.0077INFO:tensorflow:Assets written to: my_checkpoint/assets\n"
          ]
        },
        {
          "name": "stderr",
          "output_type": "stream",
          "text": [
            "INFO:tensorflow:Assets written to: my_checkpoint/assets\n"
          ]
        },
        {
          "name": "stdout",
          "output_type": "stream",
          "text": [
            "184/184 [==============================] - 3s 19ms/step - loss: 6.0058e-05 - mae: 0.0077 - val_loss: 3.5217e-04 - val_mae: 0.0207\n",
            "Epoch 27/500\n",
            "182/184 [============================>.] - ETA: 0s - loss: 5.7377e-05 - mae: 0.0076INFO:tensorflow:Assets written to: my_checkpoint/assets\n"
          ]
        },
        {
          "name": "stderr",
          "output_type": "stream",
          "text": [
            "INFO:tensorflow:Assets written to: my_checkpoint/assets\n"
          ]
        },
        {
          "name": "stdout",
          "output_type": "stream",
          "text": [
            "184/184 [==============================] - 4s 21ms/step - loss: 5.9067e-05 - mae: 0.0077 - val_loss: 3.4565e-04 - val_mae: 0.0206\n",
            "Epoch 28/500\n",
            "184/184 [==============================] - ETA: 0s - loss: 5.8145e-05 - mae: 0.0076INFO:tensorflow:Assets written to: my_checkpoint/assets\n"
          ]
        },
        {
          "name": "stderr",
          "output_type": "stream",
          "text": [
            "INFO:tensorflow:Assets written to: my_checkpoint/assets\n"
          ]
        },
        {
          "name": "stdout",
          "output_type": "stream",
          "text": [
            "184/184 [==============================] - 3s 18ms/step - loss: 5.8145e-05 - mae: 0.0076 - val_loss: 3.3924e-04 - val_mae: 0.0204\n",
            "Epoch 29/500\n",
            "179/184 [============================>.] - ETA: 0s - loss: 5.5409e-05 - mae: 0.0074INFO:tensorflow:Assets written to: my_checkpoint/assets\n"
          ]
        },
        {
          "name": "stderr",
          "output_type": "stream",
          "text": [
            "INFO:tensorflow:Assets written to: my_checkpoint/assets\n"
          ]
        },
        {
          "name": "stdout",
          "output_type": "stream",
          "text": [
            "184/184 [==============================] - 3s 19ms/step - loss: 5.7268e-05 - mae: 0.0076 - val_loss: 3.3482e-04 - val_mae: 0.0203\n",
            "Epoch 30/500\n",
            "184/184 [==============================] - ETA: 0s - loss: 5.6464e-05 - mae: 0.0075INFO:tensorflow:Assets written to: my_checkpoint/assets\n"
          ]
        },
        {
          "name": "stderr",
          "output_type": "stream",
          "text": [
            "INFO:tensorflow:Assets written to: my_checkpoint/assets\n"
          ]
        },
        {
          "name": "stdout",
          "output_type": "stream",
          "text": [
            "184/184 [==============================] - 4s 20ms/step - loss: 5.6464e-05 - mae: 0.0075 - val_loss: 3.2808e-04 - val_mae: 0.0201\n",
            "Epoch 31/500\n",
            "184/184 [==============================] - 2s 10ms/step - loss: 5.5669e-05 - mae: 0.0074 - val_loss: 3.2888e-04 - val_mae: 0.0203\n",
            "Epoch 32/500\n",
            "180/184 [============================>.] - ETA: 0s - loss: 5.3153e-05 - mae: 0.0073INFO:tensorflow:Assets written to: my_checkpoint/assets\n"
          ]
        },
        {
          "name": "stderr",
          "output_type": "stream",
          "text": [
            "INFO:tensorflow:Assets written to: my_checkpoint/assets\n"
          ]
        },
        {
          "name": "stdout",
          "output_type": "stream",
          "text": [
            "184/184 [==============================] - 3s 19ms/step - loss: 5.4987e-05 - mae: 0.0074 - val_loss: 3.1510e-04 - val_mae: 0.0196\n",
            "Epoch 33/500\n",
            "184/184 [==============================] - 2s 10ms/step - loss: 5.4220e-05 - mae: 0.0073 - val_loss: 3.4710e-04 - val_mae: 0.0212\n",
            "Epoch 34/500\n",
            "184/184 [==============================] - 2s 10ms/step - loss: 5.3859e-05 - mae: 0.0073 - val_loss: 3.2379e-04 - val_mae: 0.0191\n",
            "Epoch 35/500\n",
            "184/184 [==============================] - 2s 10ms/step - loss: 5.3136e-05 - mae: 0.0072 - val_loss: 6.0936e-04 - val_mae: 0.0300\n",
            "Epoch 36/500\n",
            "184/184 [==============================] - 2s 10ms/step - loss: 5.6539e-05 - mae: 0.0076 - val_loss: 0.0012 - val_mae: 0.0426\n",
            "Epoch 37/500\n",
            "184/184 [==============================] - 2s 10ms/step - loss: 4.8873e-05 - mae: 0.0071 - val_loss: 4.3818e-04 - val_mae: 0.0229\n",
            "Epoch 38/500\n",
            "184/184 [==============================] - 2s 10ms/step - loss: 5.6416e-05 - mae: 0.0077 - val_loss: 3.7665e-04 - val_mae: 0.0207\n",
            "Epoch 39/500\n",
            "184/184 [==============================] - 2s 10ms/step - loss: 5.0676e-05 - mae: 0.0071 - val_loss: 5.3203e-04 - val_mae: 0.0277\n",
            "Epoch 40/500\n",
            "184/184 [==============================] - 2s 10ms/step - loss: 5.3572e-05 - mae: 0.0074 - val_loss: 9.4449e-04 - val_mae: 0.0359\n",
            "Epoch 41/500\n",
            "184/184 [==============================] - 2s 10ms/step - loss: 4.7445e-05 - mae: 0.0070 - val_loss: 4.0540e-04 - val_mae: 0.0230\n",
            "Epoch 42/500\n",
            "184/184 [==============================] - 2s 10ms/step - loss: 5.3384e-05 - mae: 0.0075 - val_loss: 4.2703e-04 - val_mae: 0.0217\n",
            "Epoch 43/500\n",
            "184/184 [==============================] - 2s 9ms/step - loss: 4.8123e-05 - mae: 0.0069 - val_loss: 5.7758e-04 - val_mae: 0.0291\n",
            "Epoch 44/500\n",
            "184/184 [==============================] - 2s 10ms/step - loss: 5.3158e-05 - mae: 0.0074 - val_loss: 8.5804e-04 - val_mae: 0.0339\n",
            "Epoch 45/500\n",
            "184/184 [==============================] - 2s 10ms/step - loss: 4.6187e-05 - mae: 0.0070 - val_loss: 4.3439e-04 - val_mae: 0.0229\n",
            "Epoch 46/500\n",
            "184/184 [==============================] - 2s 10ms/step - loss: 5.0274e-05 - mae: 0.0073 - val_loss: 3.6377e-04 - val_mae: 0.0206\n",
            "Epoch 47/500\n",
            "184/184 [==============================] - 2s 10ms/step - loss: 4.6455e-05 - mae: 0.0068 - val_loss: 3.9850e-04 - val_mae: 0.0236\n",
            "Epoch 48/500\n",
            "184/184 [==============================] - 2s 10ms/step - loss: 4.8491e-05 - mae: 0.0070 - val_loss: 4.8591e-04 - val_mae: 0.0235\n",
            "Epoch 49/500\n",
            "184/184 [==============================] - 2s 10ms/step - loss: 4.5627e-05 - mae: 0.0069 - val_loss: 4.9080e-04 - val_mae: 0.0267\n",
            "Epoch 50/500\n",
            "184/184 [==============================] - 2s 10ms/step - loss: 5.0862e-05 - mae: 0.0073 - val_loss: 6.0604e-04 - val_mae: 0.0273\n",
            "Epoch 51/500\n",
            "184/184 [==============================] - 2s 10ms/step - loss: 4.3880e-05 - mae: 0.0068 - val_loss: 3.8219e-04 - val_mae: 0.0219\n",
            "Epoch 52/500\n",
            "184/184 [==============================] - 2s 10ms/step - loss: 4.7098e-05 - mae: 0.0070 - val_loss: 3.5333e-04 - val_mae: 0.0200\n",
            "Epoch 53/500\n",
            "184/184 [==============================] - 2s 10ms/step - loss: 4.3820e-05 - mae: 0.0066 - val_loss: 3.8369e-04 - val_mae: 0.0232\n",
            "Epoch 54/500\n",
            "184/184 [==============================] - 2s 11ms/step - loss: 4.6694e-05 - mae: 0.0069 - val_loss: 4.3685e-04 - val_mae: 0.0222\n",
            "Epoch 55/500\n",
            "184/184 [==============================] - 2s 10ms/step - loss: 4.3048e-05 - mae: 0.0067 - val_loss: 3.9917e-04 - val_mae: 0.0237\n",
            "Epoch 56/500\n",
            "184/184 [==============================] - 2s 10ms/step - loss: 4.7597e-05 - mae: 0.0071 - val_loss: 4.5552e-04 - val_mae: 0.0229\n",
            "Epoch 57/500\n",
            "184/184 [==============================] - 2s 10ms/step - loss: 4.1645e-05 - mae: 0.0066 - val_loss: 3.4356e-04 - val_mae: 0.0214\n",
            "Epoch 58/500\n",
            "184/184 [==============================] - 2s 10ms/step - loss: 4.5311e-05 - mae: 0.0069 - val_loss: 3.5989e-04 - val_mae: 0.0199\n",
            "Epoch 59/500\n",
            "184/184 [==============================] - 2s 10ms/step - loss: 4.1271e-05 - mae: 0.0065 - val_loss: 3.7221e-04 - val_mae: 0.0229\n",
            "Epoch 60/500\n",
            "184/184 [==============================] - 2s 10ms/step - loss: 4.5473e-05 - mae: 0.0069 - val_loss: 3.9622e-04 - val_mae: 0.0212\n",
            "Epoch 61/500\n",
            "184/184 [==============================] - 2s 10ms/step - loss: 4.0492e-05 - mae: 0.0065 - val_loss: 3.3170e-04 - val_mae: 0.0212\n",
            "Epoch 62/500\n",
            "184/184 [==============================] - 2s 9ms/step - loss: 4.4400e-05 - mae: 0.0068 - val_loss: 3.4921e-04 - val_mae: 0.0196\n",
            "Epoch 63/500\n",
            "184/184 [==============================] - 2s 10ms/step - loss: 3.9652e-05 - mae: 0.0064 - val_loss: 3.4055e-04 - val_mae: 0.0218\n",
            "Epoch 64/500\n",
            "184/184 [==============================] - 2s 9ms/step - loss: 4.4020e-05 - mae: 0.0068 - val_loss: 3.5053e-04 - val_mae: 0.0199\n",
            "Epoch 65/500\n",
            "184/184 [==============================] - 2s 9ms/step - loss: 3.9012e-05 - mae: 0.0063 - val_loss: 3.2010e-04 - val_mae: 0.0210\n",
            "Epoch 66/500\n",
            "184/184 [==============================] - 2s 10ms/step - loss: 4.3307e-05 - mae: 0.0067 - val_loss: 3.2586e-04 - val_mae: 0.0191\n",
            "Epoch 67/500\n",
            "184/184 [==============================] - 2s 10ms/step - loss: 3.8254e-05 - mae: 0.0062 - val_loss: 3.2159e-04 - val_mae: 0.0212\n",
            "Epoch 68/500\n",
            "184/184 [==============================] - 2s 9ms/step - loss: 4.2860e-05 - mae: 0.0067 - val_loss: 3.1762e-04 - val_mae: 0.0190\n",
            "Epoch 69/500\n",
            "181/184 [============================>.] - ETA: 0s - loss: 3.6253e-05 - mae: 0.0061INFO:tensorflow:Assets written to: my_checkpoint/assets\n"
          ]
        },
        {
          "name": "stderr",
          "output_type": "stream",
          "text": [
            "INFO:tensorflow:Assets written to: my_checkpoint/assets\n"
          ]
        },
        {
          "name": "stdout",
          "output_type": "stream",
          "text": [
            "184/184 [==============================] - 4s 20ms/step - loss: 3.7623e-05 - mae: 0.0062 - val_loss: 3.0991e-04 - val_mae: 0.0207\n",
            "Epoch 70/500\n",
            "182/184 [============================>.] - ETA: 0s - loss: 4.1682e-05 - mae: 0.0066INFO:tensorflow:Assets written to: my_checkpoint/assets\n"
          ]
        },
        {
          "name": "stderr",
          "output_type": "stream",
          "text": [
            "INFO:tensorflow:Assets written to: my_checkpoint/assets\n"
          ]
        },
        {
          "name": "stdout",
          "output_type": "stream",
          "text": [
            "184/184 [==============================] - 3s 18ms/step - loss: 4.2316e-05 - mae: 0.0067 - val_loss: 3.0169e-04 - val_mae: 0.0185\n",
            "Epoch 71/500\n",
            "184/184 [==============================] - 2s 10ms/step - loss: 3.6941e-05 - mae: 0.0061 - val_loss: 3.1122e-04 - val_mae: 0.0209\n",
            "Epoch 72/500\n",
            "184/184 [==============================] - ETA: 0s - loss: 4.1952e-05 - mae: 0.0067INFO:tensorflow:Assets written to: my_checkpoint/assets\n"
          ]
        },
        {
          "name": "stderr",
          "output_type": "stream",
          "text": [
            "INFO:tensorflow:Assets written to: my_checkpoint/assets\n"
          ]
        },
        {
          "name": "stdout",
          "output_type": "stream",
          "text": [
            "184/184 [==============================] - 4s 21ms/step - loss: 4.1952e-05 - mae: 0.0067 - val_loss: 2.9448e-04 - val_mae: 0.0184\n",
            "Epoch 73/500\n",
            "184/184 [==============================] - 2s 10ms/step - loss: 3.6310e-05 - mae: 0.0061 - val_loss: 3.0113e-04 - val_mae: 0.0205\n",
            "Epoch 74/500\n",
            "181/184 [============================>.] - ETA: 0s - loss: 4.0958e-05 - mae: 0.0066INFO:tensorflow:Assets written to: my_checkpoint/assets\n"
          ]
        },
        {
          "name": "stderr",
          "output_type": "stream",
          "text": [
            "INFO:tensorflow:Assets written to: my_checkpoint/assets\n"
          ]
        },
        {
          "name": "stdout",
          "output_type": "stream",
          "text": [
            "184/184 [==============================] - 3s 18ms/step - loss: 4.1441e-05 - mae: 0.0066 - val_loss: 2.8260e-04 - val_mae: 0.0180\n",
            "Epoch 75/500\n",
            "184/184 [==============================] - 2s 10ms/step - loss: 3.5678e-05 - mae: 0.0060 - val_loss: 3.0733e-04 - val_mae: 0.0208\n",
            "Epoch 76/500\n",
            "182/184 [============================>.] - ETA: 0s - loss: 4.0637e-05 - mae: 0.0066INFO:tensorflow:Assets written to: my_checkpoint/assets\n"
          ]
        },
        {
          "name": "stderr",
          "output_type": "stream",
          "text": [
            "INFO:tensorflow:Assets written to: my_checkpoint/assets\n"
          ]
        },
        {
          "name": "stdout",
          "output_type": "stream",
          "text": [
            "184/184 [==============================] - 3s 18ms/step - loss: 4.1219e-05 - mae: 0.0066 - val_loss: 2.8138e-04 - val_mae: 0.0182\n",
            "Epoch 77/500\n",
            "184/184 [==============================] - 2s 10ms/step - loss: 3.5063e-05 - mae: 0.0060 - val_loss: 2.9135e-04 - val_mae: 0.0202\n",
            "Epoch 78/500\n",
            "183/184 [============================>.] - ETA: 0s - loss: 4.0325e-05 - mae: 0.0065INFO:tensorflow:Assets written to: my_checkpoint/assets\n"
          ]
        },
        {
          "name": "stderr",
          "output_type": "stream",
          "text": [
            "INFO:tensorflow:Assets written to: my_checkpoint/assets\n"
          ]
        },
        {
          "name": "stdout",
          "output_type": "stream",
          "text": [
            "184/184 [==============================] - 8s 45ms/step - loss: 4.0621e-05 - mae: 0.0066 - val_loss: 2.7088e-04 - val_mae: 0.0178\n",
            "Epoch 79/500\n",
            "184/184 [==============================] - 3s 19ms/step - loss: 3.4497e-05 - mae: 0.0059 - val_loss: 3.1464e-04 - val_mae: 0.0212\n",
            "Epoch 80/500\n",
            "184/184 [==============================] - 3s 17ms/step - loss: 4.0772e-05 - mae: 0.0066 - val_loss: 2.8262e-04 - val_mae: 0.0185\n",
            "Epoch 81/500\n",
            "183/184 [============================>.] - ETA: 0s - loss: 3.3162e-05 - mae: 0.0059INFO:tensorflow:Assets written to: my_checkpoint/assets\n"
          ]
        },
        {
          "name": "stderr",
          "output_type": "stream",
          "text": [
            "INFO:tensorflow:Assets written to: my_checkpoint/assets\n"
          ]
        },
        {
          "name": "stdout",
          "output_type": "stream",
          "text": [
            "184/184 [==============================] - 6s 32ms/step - loss: 3.3906e-05 - mae: 0.0059 - val_loss: 2.7000e-04 - val_mae: 0.0194\n",
            "Epoch 82/500\n",
            "181/184 [============================>.] - ETA: 0s - loss: 3.9196e-05 - mae: 0.0064INFO:tensorflow:Assets written to: my_checkpoint/assets\n"
          ]
        },
        {
          "name": "stderr",
          "output_type": "stream",
          "text": [
            "INFO:tensorflow:Assets written to: my_checkpoint/assets\n"
          ]
        },
        {
          "name": "stdout",
          "output_type": "stream",
          "text": [
            "184/184 [==============================] - 4s 20ms/step - loss: 3.9594e-05 - mae: 0.0065 - val_loss: 2.5508e-04 - val_mae: 0.0172\n",
            "Epoch 83/500\n",
            "184/184 [==============================] - 2s 10ms/step - loss: 3.3567e-05 - mae: 0.0058 - val_loss: 3.7210e-04 - val_mae: 0.0234\n",
            "Epoch 84/500\n",
            "184/184 [==============================] - 2s 10ms/step - loss: 4.1185e-05 - mae: 0.0066 - val_loss: 2.7873e-04 - val_mae: 0.0189\n",
            "Epoch 85/500\n",
            "181/184 [============================>.] - ETA: 0s - loss: 3.2635e-05 - mae: 0.0059INFO:tensorflow:Assets written to: my_checkpoint/assets\n"
          ]
        },
        {
          "name": "stderr",
          "output_type": "stream",
          "text": [
            "INFO:tensorflow:Assets written to: my_checkpoint/assets\n"
          ]
        },
        {
          "name": "stdout",
          "output_type": "stream",
          "text": [
            "184/184 [==============================] - 3s 19ms/step - loss: 3.3313e-05 - mae: 0.0059 - val_loss: 2.4465e-04 - val_mae: 0.0176\n",
            "Epoch 86/500\n",
            "183/184 [============================>.] - ETA: 0s - loss: 3.7311e-05 - mae: 0.0063INFO:tensorflow:Assets written to: my_checkpoint/assets\n"
          ]
        },
        {
          "name": "stderr",
          "output_type": "stream",
          "text": [
            "INFO:tensorflow:Assets written to: my_checkpoint/assets\n"
          ]
        },
        {
          "name": "stdout",
          "output_type": "stream",
          "text": [
            "184/184 [==============================] - 4s 21ms/step - loss: 3.7591e-05 - mae: 0.0063 - val_loss: 1.8961e-04 - val_mae: 0.0147\n",
            "Epoch 87/500\n",
            "184/184 [==============================] - 2s 10ms/step - loss: 3.3489e-05 - mae: 0.0057 - val_loss: 4.8729e-04 - val_mae: 0.0275\n",
            "Epoch 88/500\n",
            "184/184 [==============================] - 2s 9ms/step - loss: 4.0380e-05 - mae: 0.0065 - val_loss: 2.1909e-04 - val_mae: 0.0169\n",
            "Epoch 89/500\n",
            "184/184 [==============================] - 2s 9ms/step - loss: 3.3798e-05 - mae: 0.0060 - val_loss: 2.5136e-04 - val_mae: 0.0171\n",
            "Epoch 90/500\n",
            "184/184 [==============================] - 2s 9ms/step - loss: 3.6600e-05 - mae: 0.0062 - val_loss: 2.0339e-04 - val_mae: 0.0152\n",
            "Epoch 91/500\n",
            "184/184 [==============================] - 2s 9ms/step - loss: 3.2398e-05 - mae: 0.0057 - val_loss: 4.0902e-04 - val_mae: 0.0250\n",
            "Epoch 92/500\n",
            "184/184 [==============================] - 2s 11ms/step - loss: 3.8089e-05 - mae: 0.0063 - val_loss: 2.9542e-04 - val_mae: 0.0203\n",
            "Epoch 93/500\n",
            "184/184 [==============================] - 2s 10ms/step - loss: 3.2359e-05 - mae: 0.0059 - val_loss: 2.3834e-04 - val_mae: 0.0172\n",
            "Epoch 94/500\n",
            "184/184 [==============================] - 2s 10ms/step - loss: 3.7893e-05 - mae: 0.0063 - val_loss: 2.0424e-04 - val_mae: 0.0151\n",
            "Epoch 95/500\n",
            "184/184 [==============================] - 2s 9ms/step - loss: 3.1853e-05 - mae: 0.0055 - val_loss: 5.2663e-04 - val_mae: 0.0290\n",
            "Epoch 96/500\n",
            "180/184 [============================>.] - ETA: 0s - loss: 4.0515e-05 - mae: 0.0065INFO:tensorflow:Assets written to: my_checkpoint/assets\n"
          ]
        },
        {
          "name": "stderr",
          "output_type": "stream",
          "text": [
            "INFO:tensorflow:Assets written to: my_checkpoint/assets\n"
          ]
        },
        {
          "name": "stdout",
          "output_type": "stream",
          "text": [
            "184/184 [==============================] - 3s 18ms/step - loss: 4.0843e-05 - mae: 0.0066 - val_loss: 1.7105e-04 - val_mae: 0.0149\n",
            "Epoch 97/500\n",
            "184/184 [==============================] - 2s 10ms/step - loss: 3.3361e-05 - mae: 0.0060 - val_loss: 2.5308e-04 - val_mae: 0.0169\n",
            "Epoch 98/500\n",
            "184/184 [==============================] - 2s 10ms/step - loss: 3.4421e-05 - mae: 0.0060 - val_loss: 2.5729e-04 - val_mae: 0.0170\n",
            "Epoch 99/500\n",
            "184/184 [==============================] - 2s 9ms/step - loss: 3.0264e-05 - mae: 0.0055 - val_loss: 2.3257e-04 - val_mae: 0.0182\n",
            "Epoch 100/500\n",
            "184/184 [==============================] - 2s 9ms/step - loss: 3.3697e-05 - mae: 0.0059 - val_loss: 3.0279e-04 - val_mae: 0.0200\n",
            "Epoch 101/500\n",
            "184/184 [==============================] - 2s 9ms/step - loss: 3.1011e-05 - mae: 0.0056 - val_loss: 4.4501e-04 - val_mae: 0.0261\n",
            "Epoch 102/500\n",
            "184/184 [==============================] - 2s 9ms/step - loss: 4.3337e-05 - mae: 0.0068 - val_loss: 1.8957e-04 - val_mae: 0.0157\n",
            "Epoch 103/500\n",
            "184/184 [==============================] - 2s 10ms/step - loss: 3.1108e-05 - mae: 0.0058 - val_loss: 2.6450e-04 - val_mae: 0.0173\n",
            "Epoch 104/500\n",
            "184/184 [==============================] - 2s 9ms/step - loss: 3.2484e-05 - mae: 0.0058 - val_loss: 2.9349e-04 - val_mae: 0.0183\n",
            "Epoch 105/500\n",
            "184/184 [==============================] - 2s 9ms/step - loss: 2.9319e-05 - mae: 0.0055 - val_loss: 2.0956e-04 - val_mae: 0.0171\n",
            "Epoch 106/500\n",
            "184/184 [==============================] - 2s 9ms/step - loss: 3.2562e-05 - mae: 0.0058 - val_loss: 2.5674e-04 - val_mae: 0.0179\n",
            "Epoch 107/500\n",
            "184/184 [==============================] - 2s 10ms/step - loss: 3.1613e-05 - mae: 0.0055 - val_loss: 4.3692e-04 - val_mae: 0.0260\n",
            "Epoch 108/500\n",
            "181/184 [============================>.] - ETA: 0s - loss: 4.2694e-05 - mae: 0.0068INFO:tensorflow:Assets written to: my_checkpoint/assets\n"
          ]
        },
        {
          "name": "stderr",
          "output_type": "stream",
          "text": [
            "INFO:tensorflow:Assets written to: my_checkpoint/assets\n"
          ]
        },
        {
          "name": "stdout",
          "output_type": "stream",
          "text": [
            "184/184 [==============================] - 3s 18ms/step - loss: 4.2881e-05 - mae: 0.0068 - val_loss: 1.1480e-04 - val_mae: 0.0115\n",
            "Epoch 109/500\n",
            "184/184 [==============================] - 2s 10ms/step - loss: 3.1744e-05 - mae: 0.0058 - val_loss: 2.2007e-04 - val_mae: 0.0158\n",
            "Epoch 110/500\n",
            "184/184 [==============================] - 2s 10ms/step - loss: 2.9699e-05 - mae: 0.0055 - val_loss: 2.6409e-04 - val_mae: 0.0175\n",
            "Epoch 111/500\n",
            "184/184 [==============================] - 2s 10ms/step - loss: 2.8111e-05 - mae: 0.0054 - val_loss: 2.8225e-04 - val_mae: 0.0179\n",
            "Epoch 112/500\n",
            "184/184 [==============================] - 2s 10ms/step - loss: 2.9148e-05 - mae: 0.0054 - val_loss: 2.5430e-04 - val_mae: 0.0192\n",
            "Epoch 113/500\n",
            "184/184 [==============================] - 2s 9ms/step - loss: 3.3684e-05 - mae: 0.0059 - val_loss: 6.4503e-04 - val_mae: 0.0320\n",
            "Epoch 114/500\n",
            "184/184 [==============================] - 2s 10ms/step - loss: 2.9703e-05 - mae: 0.0056 - val_loss: 2.9029e-04 - val_mae: 0.0186\n",
            "Epoch 115/500\n",
            "184/184 [==============================] - 2s 9ms/step - loss: 3.9353e-05 - mae: 0.0062 - val_loss: 3.2637e-04 - val_mae: 0.0194\n",
            "Epoch 116/500\n",
            "184/184 [==============================] - 2s 10ms/step - loss: 2.8582e-05 - mae: 0.0052 - val_loss: 4.3577e-04 - val_mae: 0.0261\n",
            "Epoch 117/500\n",
            "184/184 [==============================] - 2s 10ms/step - loss: 3.9873e-05 - mae: 0.0065 - val_loss: 1.5409e-04 - val_mae: 0.0139\n",
            "Epoch 118/500\n",
            "184/184 [==============================] - 2s 9ms/step - loss: 3.2533e-05 - mae: 0.0058 - val_loss: 2.5911e-04 - val_mae: 0.0171\n",
            "Epoch 119/500\n",
            "184/184 [==============================] - 2s 9ms/step - loss: 2.9229e-05 - mae: 0.0055 - val_loss: 3.1061e-04 - val_mae: 0.0190\n",
            "Epoch 120/500\n",
            "184/184 [==============================] - 2s 9ms/step - loss: 2.6411e-05 - mae: 0.0052 - val_loss: 1.9567e-04 - val_mae: 0.0151\n",
            "Epoch 121/500\n",
            "184/184 [==============================] - 2s 10ms/step - loss: 2.9814e-05 - mae: 0.0055 - val_loss: 4.6486e-04 - val_mae: 0.0276\n",
            "Epoch 122/500\n",
            "184/184 [==============================] - 2s 10ms/step - loss: 3.6682e-05 - mae: 0.0061 - val_loss: 1.8825e-04 - val_mae: 0.0161\n",
            "Epoch 123/500\n",
            "184/184 [==============================] - 2s 9ms/step - loss: 3.1897e-05 - mae: 0.0058 - val_loss: 2.5939e-04 - val_mae: 0.0171\n",
            "Epoch 124/500\n",
            "184/184 [==============================] - 2s 10ms/step - loss: 3.0917e-05 - mae: 0.0056 - val_loss: 3.0780e-04 - val_mae: 0.0190\n",
            "Epoch 125/500\n",
            "184/184 [==============================] - 2s 10ms/step - loss: 2.6098e-05 - mae: 0.0051 - val_loss: 1.6480e-04 - val_mae: 0.0143\n",
            "Epoch 126/500\n",
            "184/184 [==============================] - 2s 10ms/step - loss: 2.9115e-05 - mae: 0.0055 - val_loss: 3.3015e-04 - val_mae: 0.0228\n",
            "Epoch 127/500\n",
            "184/184 [==============================] - 2s 10ms/step - loss: 3.2074e-05 - mae: 0.0056 - val_loss: 5.7833e-04 - val_mae: 0.0308\n",
            "Epoch 128/500\n",
            "184/184 [==============================] - 2s 9ms/step - loss: 3.0999e-05 - mae: 0.0058 - val_loss: 3.2456e-04 - val_mae: 0.0191\n",
            "Epoch 129/500\n",
            "184/184 [==============================] - 2s 9ms/step - loss: 3.9285e-05 - mae: 0.0061 - val_loss: 3.3612e-04 - val_mae: 0.0199\n",
            "Epoch 130/500\n",
            "184/184 [==============================] - 2s 9ms/step - loss: 2.4904e-05 - mae: 0.0050 - val_loss: 2.0370e-04 - val_mae: 0.0153\n",
            "Epoch 131/500\n",
            "184/184 [==============================] - 2s 10ms/step - loss: 2.7938e-05 - mae: 0.0053 - val_loss: 3.9493e-04 - val_mae: 0.0251\n",
            "Epoch 132/500\n",
            "184/184 [==============================] - 2s 9ms/step - loss: 3.4643e-05 - mae: 0.0059 - val_loss: 2.1853e-04 - val_mae: 0.0175\n",
            "Epoch 133/500\n",
            "184/184 [==============================] - 2s 9ms/step - loss: 3.0582e-05 - mae: 0.0057 - val_loss: 2.6289e-04 - val_mae: 0.0172\n",
            "Epoch 134/500\n",
            "184/184 [==============================] - 2s 9ms/step - loss: 3.0156e-05 - mae: 0.0055 - val_loss: 3.1213e-04 - val_mae: 0.0192\n",
            "Epoch 135/500\n",
            "184/184 [==============================] - 2s 9ms/step - loss: 2.4732e-05 - mae: 0.0050 - val_loss: 1.6147e-04 - val_mae: 0.0143\n",
            "Epoch 136/500\n",
            "184/184 [==============================] - 2s 10ms/step - loss: 2.7609e-05 - mae: 0.0053 - val_loss: 1.3606e-04 - val_mae: 0.0134\n",
            "Epoch 137/500\n",
            "184/184 [==============================] - 2s 9ms/step - loss: 2.7026e-05 - mae: 0.0051 - val_loss: 4.2837e-04 - val_mae: 0.0269\n",
            "Epoch 138/500\n",
            "184/184 [==============================] - 2s 9ms/step - loss: 3.2239e-05 - mae: 0.0057 - val_loss: 3.3784e-04 - val_mae: 0.0233\n",
            "Epoch 139/500\n",
            "184/184 [==============================] - 2s 9ms/step - loss: 2.9586e-05 - mae: 0.0057 - val_loss: 2.6270e-04 - val_mae: 0.0172\n",
            "Epoch 140/500\n",
            "184/184 [==============================] - 2s 12ms/step - loss: 3.5744e-05 - mae: 0.0059 - val_loss: 2.8937e-04 - val_mae: 0.0186\n",
            "Epoch 141/500\n",
            "184/184 [==============================] - 2s 10ms/step - loss: 2.4550e-05 - mae: 0.0050 - val_loss: 2.3589e-04 - val_mae: 0.0163\n",
            "Epoch 142/500\n",
            "184/184 [==============================] - 2s 10ms/step - loss: 2.6576e-05 - mae: 0.0052 - val_loss: 3.2550e-04 - val_mae: 0.0224\n",
            "Epoch 143/500\n",
            "184/184 [==============================] - 2s 9ms/step - loss: 3.2924e-05 - mae: 0.0059 - val_loss: 2.5256e-04 - val_mae: 0.0192\n",
            "Epoch 144/500\n",
            "184/184 [==============================] - 2s 10ms/step - loss: 2.8557e-05 - mae: 0.0055 - val_loss: 2.5539e-04 - val_mae: 0.0170\n",
            "Epoch 145/500\n",
            "184/184 [==============================] - 2s 10ms/step - loss: 3.0359e-05 - mae: 0.0055 - val_loss: 3.1349e-04 - val_mae: 0.0195\n",
            "Epoch 146/500\n",
            "184/184 [==============================] - 2s 10ms/step - loss: 2.3750e-05 - mae: 0.0049 - val_loss: 1.6209e-04 - val_mae: 0.0140\n",
            "Epoch 147/500\n",
            "184/184 [==============================] - 2s 9ms/step - loss: 2.6725e-05 - mae: 0.0052 - val_loss: 2.1005e-04 - val_mae: 0.0175\n",
            "Epoch 148/500\n",
            "184/184 [==============================] - 2s 10ms/step - loss: 2.8064e-05 - mae: 0.0052 - val_loss: 6.1740e-04 - val_mae: 0.0317\n",
            "Epoch 149/500\n",
            "184/184 [==============================] - 2s 10ms/step - loss: 2.7936e-05 - mae: 0.0055 - val_loss: 3.0296e-04 - val_mae: 0.0185\n",
            "Epoch 150/500\n",
            "184/184 [==============================] - 2s 10ms/step - loss: 3.6614e-05 - mae: 0.0059 - val_loss: 3.3347e-04 - val_mae: 0.0200\n",
            "Epoch 151/500\n",
            "184/184 [==============================] - 2s 10ms/step - loss: 2.2797e-05 - mae: 0.0047 - val_loss: 1.6874e-04 - val_mae: 0.0145\n",
            "Epoch 152/500\n",
            "184/184 [==============================] - 2s 10ms/step - loss: 2.6064e-05 - mae: 0.0052 - val_loss: 1.3504e-04 - val_mae: 0.0123\n",
            "Epoch 153/500\n",
            "184/184 [==============================] - 2s 10ms/step - loss: 2.7278e-05 - mae: 0.0050 - val_loss: 2.5200e-04 - val_mae: 0.0193\n",
            "Epoch 154/500\n",
            "181/184 [============================>.] - ETA: 0s - loss: 3.2345e-05 - mae: 0.0057INFO:tensorflow:Assets written to: my_checkpoint/assets\n"
          ]
        },
        {
          "name": "stderr",
          "output_type": "stream",
          "text": [
            "INFO:tensorflow:Assets written to: my_checkpoint/assets\n"
          ]
        },
        {
          "name": "stdout",
          "output_type": "stream",
          "text": [
            "184/184 [==============================] - 4s 21ms/step - loss: 3.2499e-05 - mae: 0.0057 - val_loss: 9.3264e-05 - val_mae: 0.0101\n",
            "Epoch 155/500\n",
            "184/184 [==============================] - 2s 10ms/step - loss: 2.6963e-05 - mae: 0.0053 - val_loss: 1.7993e-04 - val_mae: 0.0143\n",
            "Epoch 156/500\n",
            "184/184 [==============================] - 2s 10ms/step - loss: 2.4492e-05 - mae: 0.0050 - val_loss: 2.0043e-04 - val_mae: 0.0152\n",
            "Epoch 157/500\n",
            "184/184 [==============================] - 2s 10ms/step - loss: 2.3238e-05 - mae: 0.0048 - val_loss: 2.4910e-04 - val_mae: 0.0170\n",
            "Epoch 158/500\n",
            "184/184 [==============================] - 2s 10ms/step - loss: 2.3402e-05 - mae: 0.0048 - val_loss: 1.8833e-04 - val_mae: 0.0145\n",
            "Epoch 159/500\n",
            "184/184 [==============================] - 2s 10ms/step - loss: 2.5385e-05 - mae: 0.0050 - val_loss: 3.1246e-04 - val_mae: 0.0220\n",
            "Epoch 160/500\n",
            "184/184 [==============================] - 2s 10ms/step - loss: 3.1438e-05 - mae: 0.0057 - val_loss: 1.8997e-04 - val_mae: 0.0163\n",
            "Epoch 161/500\n",
            "184/184 [==============================] - 2s 11ms/step - loss: 2.7281e-05 - mae: 0.0054 - val_loss: 2.2872e-04 - val_mae: 0.0160\n",
            "Epoch 162/500\n",
            "184/184 [==============================] - 2s 10ms/step - loss: 2.8598e-05 - mae: 0.0053 - val_loss: 2.6325e-04 - val_mae: 0.0176\n",
            "Epoch 163/500\n",
            "184/184 [==============================] - 2s 10ms/step - loss: 2.3000e-05 - mae: 0.0048 - val_loss: 1.5265e-04 - val_mae: 0.0134\n",
            "Epoch 164/500\n",
            "184/184 [==============================] - 2s 10ms/step - loss: 2.5373e-05 - mae: 0.0051 - val_loss: 2.2359e-04 - val_mae: 0.0182\n",
            "Epoch 165/500\n",
            "184/184 [==============================] - 2s 9ms/step - loss: 2.7702e-05 - mae: 0.0052 - val_loss: 4.8247e-04 - val_mae: 0.0278\n",
            "Epoch 166/500\n",
            "184/184 [==============================] - 2s 10ms/step - loss: 2.7195e-05 - mae: 0.0054 - val_loss: 2.7811e-04 - val_mae: 0.0177\n",
            "Epoch 167/500\n",
            "184/184 [==============================] - 2s 10ms/step - loss: 3.4943e-05 - mae: 0.0057 - val_loss: 2.6665e-04 - val_mae: 0.0177\n",
            "Epoch 168/500\n",
            "184/184 [==============================] - 2s 10ms/step - loss: 2.2133e-05 - mae: 0.0046 - val_loss: 1.8578e-04 - val_mae: 0.0145\n",
            "Epoch 169/500\n",
            "184/184 [==============================] - 2s 10ms/step - loss: 2.4136e-05 - mae: 0.0049 - val_loss: 2.2164e-04 - val_mae: 0.0180\n",
            "Epoch 170/500\n",
            "184/184 [==============================] - 2s 10ms/step - loss: 2.8094e-05 - mae: 0.0052 - val_loss: 3.6679e-04 - val_mae: 0.0236\n",
            "Epoch 171/500\n",
            "184/184 [==============================] - 2s 10ms/step - loss: 2.6225e-05 - mae: 0.0053 - val_loss: 2.5303e-04 - val_mae: 0.0169\n",
            "Epoch 172/500\n",
            "184/184 [==============================] - 2s 10ms/step - loss: 3.0803e-05 - mae: 0.0055 - val_loss: 2.6029e-04 - val_mae: 0.0174\n",
            "Epoch 173/500\n",
            "184/184 [==============================] - 2s 10ms/step - loss: 2.1847e-05 - mae: 0.0046 - val_loss: 1.4704e-04 - val_mae: 0.0136\n",
            "Epoch 174/500\n",
            "184/184 [==============================] - 2s 10ms/step - loss: 2.4756e-05 - mae: 0.0050 - val_loss: 1.8066e-04 - val_mae: 0.0144\n",
            "Epoch 175/500\n",
            "184/184 [==============================] - 2s 10ms/step - loss: 2.4601e-05 - mae: 0.0048 - val_loss: 2.5348e-04 - val_mae: 0.0194\n",
            "Epoch 176/500\n",
            "184/184 [==============================] - ETA: 0s - loss: 3.2824e-05 - mae: 0.0059INFO:tensorflow:Assets written to: my_checkpoint/assets\n"
          ]
        },
        {
          "name": "stderr",
          "output_type": "stream",
          "text": [
            "INFO:tensorflow:Assets written to: my_checkpoint/assets\n"
          ]
        },
        {
          "name": "stdout",
          "output_type": "stream",
          "text": [
            "184/184 [==============================] - 3s 19ms/step - loss: 3.2824e-05 - mae: 0.0059 - val_loss: 8.9729e-05 - val_mae: 0.0099\n",
            "Epoch 177/500\n",
            "184/184 [==============================] - 2s 10ms/step - loss: 2.6085e-05 - mae: 0.0052 - val_loss: 1.6456e-04 - val_mae: 0.0137\n",
            "Epoch 178/500\n",
            "184/184 [==============================] - 2s 10ms/step - loss: 2.3932e-05 - mae: 0.0049 - val_loss: 1.8035e-04 - val_mae: 0.0144\n",
            "Epoch 179/500\n",
            "184/184 [==============================] - 2s 10ms/step - loss: 2.2422e-05 - mae: 0.0047 - val_loss: 2.1522e-04 - val_mae: 0.0158\n",
            "Epoch 180/500\n",
            "184/184 [==============================] - 2s 9ms/step - loss: 2.2586e-05 - mae: 0.0047 - val_loss: 1.7179e-04 - val_mae: 0.0139\n",
            "Epoch 181/500\n",
            "184/184 [==============================] - 2s 10ms/step - loss: 2.3558e-05 - mae: 0.0048 - val_loss: 1.9906e-04 - val_mae: 0.0169\n",
            "Epoch 182/500\n",
            "184/184 [==============================] - 2s 10ms/step - loss: 2.7166e-05 - mae: 0.0052 - val_loss: 3.5881e-04 - val_mae: 0.0235\n",
            "Epoch 183/500\n",
            "184/184 [==============================] - 2s 10ms/step - loss: 2.5520e-05 - mae: 0.0052 - val_loss: 2.3924e-04 - val_mae: 0.0164\n",
            "Epoch 184/500\n",
            "184/184 [==============================] - 2s 10ms/step - loss: 3.1481e-05 - mae: 0.0055 - val_loss: 2.3037e-04 - val_mae: 0.0163\n",
            "Epoch 185/500\n",
            "184/184 [==============================] - 2s 10ms/step - loss: 2.1608e-05 - mae: 0.0045 - val_loss: 1.4378e-04 - val_mae: 0.0130\n",
            "Epoch 186/500\n",
            "184/184 [==============================] - 2s 10ms/step - loss: 2.3435e-05 - mae: 0.0048 - val_loss: 1.1048e-04 - val_mae: 0.0117\n",
            "Epoch 187/500\n",
            "184/184 [==============================] - 2s 10ms/step - loss: 2.2906e-05 - mae: 0.0046 - val_loss: 1.5652e-04 - val_mae: 0.0147\n",
            "Epoch 188/500\n",
            "184/184 [==============================] - 2s 10ms/step - loss: 2.4202e-05 - mae: 0.0048 - val_loss: 3.7045e-04 - val_mae: 0.0239\n",
            "Epoch 189/500\n",
            "184/184 [==============================] - 2s 10ms/step - loss: 2.3906e-05 - mae: 0.0049 - val_loss: 1.6615e-04 - val_mae: 0.0142\n",
            "Epoch 190/500\n",
            "184/184 [==============================] - 2s 10ms/step - loss: 3.2615e-05 - mae: 0.0056 - val_loss: 2.7114e-04 - val_mae: 0.0189\n",
            "Epoch 191/500\n",
            "184/184 [==============================] - 2s 10ms/step - loss: 2.1406e-05 - mae: 0.0044 - val_loss: 1.4191e-04 - val_mae: 0.0134\n",
            "Epoch 192/500\n",
            "184/184 [==============================] - 2s 10ms/step - loss: 2.6966e-05 - mae: 0.0053 - val_loss: 2.9712e-04 - val_mae: 0.0203\n",
            "Epoch 193/500\n",
            "184/184 [==============================] - 2s 10ms/step - loss: 2.2058e-05 - mae: 0.0046 - val_loss: 1.5966e-04 - val_mae: 0.0146\n",
            "Epoch 194/500\n",
            "184/184 [==============================] - 2s 10ms/step - loss: 2.9153e-05 - mae: 0.0055 - val_loss: 3.1586e-04 - val_mae: 0.0213\n",
            "Epoch 195/500\n",
            "184/184 [==============================] - 2s 9ms/step - loss: 2.2557e-05 - mae: 0.0048 - val_loss: 1.9054e-04 - val_mae: 0.0148\n",
            "Epoch 196/500\n",
            "184/184 [==============================] - 2s 10ms/step - loss: 2.7341e-05 - mae: 0.0052 - val_loss: 1.8759e-04 - val_mae: 0.0146\n",
            "Epoch 197/500\n",
            "184/184 [==============================] - 2s 10ms/step - loss: 2.1617e-05 - mae: 0.0044 - val_loss: 2.0024e-04 - val_mae: 0.0169\n",
            "Epoch 198/500\n",
            "184/184 [==============================] - 2s 10ms/step - loss: 2.7726e-05 - mae: 0.0054 - val_loss: 2.0041e-04 - val_mae: 0.0166\n",
            "Epoch 199/500\n",
            "184/184 [==============================] - 2s 10ms/step - loss: 2.4412e-05 - mae: 0.0050 - val_loss: 1.9424e-04 - val_mae: 0.0148\n",
            "Epoch 200/500\n",
            "184/184 [==============================] - 2s 10ms/step - loss: 2.6192e-05 - mae: 0.0051 - val_loss: 1.9921e-04 - val_mae: 0.0152\n",
            "Epoch 201/500\n",
            "184/184 [==============================] - 2s 10ms/step - loss: 2.1330e-05 - mae: 0.0045 - val_loss: 1.2602e-04 - val_mae: 0.0122\n",
            "Epoch 202/500\n",
            "184/184 [==============================] - 2s 10ms/step - loss: 2.2896e-05 - mae: 0.0048 - val_loss: 9.7367e-05 - val_mae: 0.0105\n",
            "Epoch 203/500\n",
            "184/184 [==============================] - 2s 9ms/step - loss: 2.2467e-05 - mae: 0.0045 - val_loss: 2.6530e-04 - val_mae: 0.0204\n",
            "Epoch 204/500\n",
            "184/184 [==============================] - 2s 10ms/step - loss: 2.7633e-05 - mae: 0.0052 - val_loss: 1.2904e-04 - val_mae: 0.0130\n",
            "Epoch 205/500\n",
            "184/184 [==============================] - 2s 10ms/step - loss: 2.4757e-05 - mae: 0.0051 - val_loss: 1.6268e-04 - val_mae: 0.0136\n",
            "Epoch 206/500\n",
            "184/184 [==============================] - 2s 10ms/step - loss: 2.6320e-05 - mae: 0.0051 - val_loss: 1.7288e-04 - val_mae: 0.0143\n",
            "Epoch 207/500\n",
            "184/184 [==============================] - 2s 10ms/step - loss: 2.1996e-05 - mae: 0.0046 - val_loss: 1.6170e-04 - val_mae: 0.0136\n",
            "Epoch 208/500\n",
            "184/184 [==============================] - 2s 10ms/step - loss: 2.2488e-05 - mae: 0.0047 - val_loss: 1.0682e-04 - val_mae: 0.0113\n",
            "Epoch 209/500\n",
            "184/184 [==============================] - 2s 10ms/step - loss: 2.2755e-05 - mae: 0.0047 - val_loss: 9.1881e-05 - val_mae: 0.0099\n",
            "Epoch 210/500\n",
            "184/184 [==============================] - 2s 10ms/step - loss: 2.2559e-05 - mae: 0.0045 - val_loss: 2.4593e-04 - val_mae: 0.0194\n",
            "Epoch 211/500\n",
            "184/184 [==============================] - ETA: 0s - loss: 2.8511e-05 - mae: 0.0054INFO:tensorflow:Assets written to: my_checkpoint/assets\n"
          ]
        },
        {
          "name": "stderr",
          "output_type": "stream",
          "text": [
            "INFO:tensorflow:Assets written to: my_checkpoint/assets\n"
          ]
        },
        {
          "name": "stdout",
          "output_type": "stream",
          "text": [
            "184/184 [==============================] - 4s 20ms/step - loss: 2.8511e-05 - mae: 0.0054 - val_loss: 7.8811e-05 - val_mae: 0.0091\n",
            "Epoch 212/500\n",
            "184/184 [==============================] - 2s 10ms/step - loss: 2.4234e-05 - mae: 0.0050 - val_loss: 1.2873e-04 - val_mae: 0.0121\n",
            "Epoch 213/500\n",
            "184/184 [==============================] - 3s 17ms/step - loss: 2.4038e-05 - mae: 0.0049 - val_loss: 1.4133e-04 - val_mae: 0.0128\n",
            "Epoch 214/500\n",
            "184/184 [==============================] - 3s 18ms/step - loss: 2.2291e-05 - mae: 0.0047 - val_loss: 1.6369e-04 - val_mae: 0.0139\n",
            "Epoch 215/500\n",
            "184/184 [==============================] - 3s 17ms/step - loss: 2.2401e-05 - mae: 0.0047 - val_loss: 1.5218e-04 - val_mae: 0.0132\n",
            "Epoch 216/500\n",
            "184/184 [==============================] - 3s 17ms/step - loss: 2.2441e-05 - mae: 0.0047 - val_loss: 1.0214e-04 - val_mae: 0.0109\n",
            "Epoch 217/500\n",
            "184/184 [==============================] - 3s 18ms/step - loss: 2.2621e-05 - mae: 0.0047 - val_loss: 8.7746e-05 - val_mae: 0.0097\n",
            "Epoch 218/500\n",
            "184/184 [==============================] - 3s 18ms/step - loss: 2.2217e-05 - mae: 0.0045 - val_loss: 2.3759e-04 - val_mae: 0.0191\n",
            "Epoch 219/500\n",
            "184/184 [==============================] - 3s 17ms/step - loss: 2.7803e-05 - mae: 0.0053 - val_loss: 8.0487e-05 - val_mae: 0.0093\n",
            "Epoch 220/500\n",
            "184/184 [==============================] - 2s 10ms/step - loss: 2.3871e-05 - mae: 0.0050 - val_loss: 1.2875e-04 - val_mae: 0.0122\n",
            "Epoch 221/500\n",
            "184/184 [==============================] - 2s 9ms/step - loss: 2.4118e-05 - mae: 0.0049 - val_loss: 1.4050e-04 - val_mae: 0.0128\n",
            "Epoch 222/500\n",
            "184/184 [==============================] - 2s 10ms/step - loss: 2.2237e-05 - mae: 0.0047 - val_loss: 1.6152e-04 - val_mae: 0.0138\n",
            "Epoch 223/500\n",
            "184/184 [==============================] - 2s 9ms/step - loss: 2.2306e-05 - mae: 0.0047 - val_loss: 1.5218e-04 - val_mae: 0.0132\n",
            "Epoch 224/500\n",
            "184/184 [==============================] - 2s 9ms/step - loss: 2.2271e-05 - mae: 0.0047 - val_loss: 1.0146e-04 - val_mae: 0.0108\n",
            "Epoch 225/500\n",
            "184/184 [==============================] - 2s 9ms/step - loss: 2.2331e-05 - mae: 0.0047 - val_loss: 8.4157e-05 - val_mae: 0.0096\n",
            "Epoch 226/500\n",
            "184/184 [==============================] - 2s 10ms/step - loss: 2.1756e-05 - mae: 0.0044 - val_loss: 2.2911e-04 - val_mae: 0.0187\n",
            "Epoch 227/500\n",
            "184/184 [==============================] - 2s 10ms/step - loss: 2.6023e-05 - mae: 0.0050 - val_loss: 1.1820e-04 - val_mae: 0.0124\n",
            "Epoch 228/500\n",
            "184/184 [==============================] - 2s 10ms/step - loss: 2.3569e-05 - mae: 0.0049 - val_loss: 1.4776e-04 - val_mae: 0.0130\n",
            "Epoch 229/500\n",
            "184/184 [==============================] - 2s 9ms/step - loss: 2.6016e-05 - mae: 0.0051 - val_loss: 1.5377e-04 - val_mae: 0.0135\n",
            "Epoch 230/500\n",
            "184/184 [==============================] - 2s 9ms/step - loss: 2.1959e-05 - mae: 0.0046 - val_loss: 1.6428e-04 - val_mae: 0.0139\n",
            "Epoch 231/500\n",
            "184/184 [==============================] - 2s 10ms/step - loss: 2.2099e-05 - mae: 0.0047 - val_loss: 1.2995e-04 - val_mae: 0.0121\n",
            "Epoch 232/500\n",
            "184/184 [==============================] - 2s 9ms/step - loss: 2.2035e-05 - mae: 0.0046 - val_loss: 1.0649e-04 - val_mae: 0.0114\n",
            "Epoch 233/500\n",
            "184/184 [==============================] - 2s 9ms/step - loss: 2.2604e-05 - mae: 0.0047 - val_loss: 2.4557e-04 - val_mae: 0.0187\n",
            "Epoch 234/500\n",
            "184/184 [==============================] - 2s 10ms/step - loss: 2.1444e-05 - mae: 0.0046 - val_loss: 1.2989e-04 - val_mae: 0.0124\n",
            "Epoch 235/500\n",
            "184/184 [==============================] - 2s 9ms/step - loss: 2.7032e-05 - mae: 0.0052 - val_loss: 2.1832e-04 - val_mae: 0.0170\n",
            "Epoch 236/500\n",
            "184/184 [==============================] - 2s 10ms/step - loss: 2.0557e-05 - mae: 0.0043 - val_loss: 1.2337e-04 - val_mae: 0.0121\n",
            "Epoch 237/500\n",
            "184/184 [==============================] - 2s 10ms/step - loss: 2.4639e-05 - mae: 0.0050 - val_loss: 1.9665e-04 - val_mae: 0.0158\n",
            "Epoch 238/500\n",
            "184/184 [==============================] - 2s 10ms/step - loss: 2.0659e-05 - mae: 0.0043 - val_loss: 1.3089e-04 - val_mae: 0.0129\n",
            "Epoch 239/500\n",
            "184/184 [==============================] - 2s 10ms/step - loss: 2.5655e-05 - mae: 0.0052 - val_loss: 2.3012e-04 - val_mae: 0.0179\n",
            "Epoch 240/500\n",
            "184/184 [==============================] - 2s 9ms/step - loss: 2.1706e-05 - mae: 0.0047 - val_loss: 1.7414e-04 - val_mae: 0.0141\n",
            "Epoch 241/500\n",
            "184/184 [==============================] - 2s 10ms/step - loss: 2.5138e-05 - mae: 0.0050 - val_loss: 1.7608e-04 - val_mae: 0.0143\n",
            "Epoch 242/500\n",
            "184/184 [==============================] - 2s 10ms/step - loss: 2.0556e-05 - mae: 0.0044 - val_loss: 1.1460e-04 - val_mae: 0.0115\n",
            "Epoch 243/500\n",
            "184/184 [==============================] - 2s 10ms/step - loss: 2.2221e-05 - mae: 0.0047 - val_loss: 1.4870e-04 - val_mae: 0.0132\n",
            "Epoch 244/500\n",
            "184/184 [==============================] - 2s 10ms/step - loss: 2.1099e-05 - mae: 0.0044 - val_loss: 1.6285e-04 - val_mae: 0.0149\n",
            "Epoch 245/500\n",
            "184/184 [==============================] - 2s 10ms/step - loss: 2.6469e-05 - mae: 0.0052 - val_loss: 1.1818e-04 - val_mae: 0.0120\n",
            "Epoch 246/500\n",
            "184/184 [==============================] - 2s 10ms/step - loss: 2.2742e-05 - mae: 0.0048 - val_loss: 1.6159e-04 - val_mae: 0.0136\n",
            "Epoch 247/500\n",
            "184/184 [==============================] - 2s 10ms/step - loss: 2.2906e-05 - mae: 0.0048 - val_loss: 1.6685e-04 - val_mae: 0.0140\n",
            "Epoch 248/500\n",
            "184/184 [==============================] - 2s 9ms/step - loss: 2.0945e-05 - mae: 0.0045 - val_loss: 1.5746e-04 - val_mae: 0.0134\n",
            "Epoch 249/500\n",
            "184/184 [==============================] - 2s 10ms/step - loss: 2.1281e-05 - mae: 0.0045 - val_loss: 1.1218e-04 - val_mae: 0.0113\n",
            "Epoch 250/500\n",
            "184/184 [==============================] - 2s 9ms/step - loss: 2.1432e-05 - mae: 0.0045 - val_loss: 9.3370e-05 - val_mae: 0.0102\n",
            "Epoch 251/500\n",
            "184/184 [==============================] - 2s 10ms/step - loss: 2.1115e-05 - mae: 0.0044 - val_loss: 1.0459e-04 - val_mae: 0.0113\n",
            "Epoch 252/500\n",
            "184/184 [==============================] - 2s 10ms/step - loss: 2.2009e-05 - mae: 0.0045 - val_loss: 2.2939e-04 - val_mae: 0.0179\n",
            "Epoch 253/500\n",
            "184/184 [==============================] - 2s 9ms/step - loss: 2.1293e-05 - mae: 0.0045 - val_loss: 1.3183e-04 - val_mae: 0.0125\n",
            "Epoch 254/500\n",
            "184/184 [==============================] - 2s 9ms/step - loss: 2.6602e-05 - mae: 0.0051 - val_loss: 1.9402e-04 - val_mae: 0.0157\n",
            "Epoch 255/500\n",
            "184/184 [==============================] - 2s 10ms/step - loss: 2.0312e-05 - mae: 0.0043 - val_loss: 1.2190e-04 - val_mae: 0.0119\n",
            "Epoch 256/500\n",
            "184/184 [==============================] - 2s 10ms/step - loss: 2.3491e-05 - mae: 0.0048 - val_loss: 1.5626e-04 - val_mae: 0.0137\n",
            "Epoch 257/500\n",
            "184/184 [==============================] - 2s 9ms/step - loss: 2.0563e-05 - mae: 0.0043 - val_loss: 1.3393e-04 - val_mae: 0.0131\n",
            "Epoch 258/500\n",
            "184/184 [==============================] - 2s 10ms/step - loss: 2.5001e-05 - mae: 0.0051 - val_loss: 1.7487e-04 - val_mae: 0.0153\n",
            "Epoch 259/500\n",
            "184/184 [==============================] - 2s 10ms/step - loss: 2.1843e-05 - mae: 0.0047 - val_loss: 1.6620e-04 - val_mae: 0.0138\n",
            "Epoch 260/500\n",
            "184/184 [==============================] - 2s 10ms/step - loss: 2.4074e-05 - mae: 0.0049 - val_loss: 1.6587e-04 - val_mae: 0.0139\n",
            "Epoch 261/500\n",
            "184/184 [==============================] - 2s 10ms/step - loss: 2.0626e-05 - mae: 0.0044 - val_loss: 1.2882e-04 - val_mae: 0.0121\n"
          ]
        },
        {
          "data": {
            "text/plain": [
              "<keras.src.callbacks.History at 0x16370f290>"
            ]
          },
          "execution_count": 14,
          "metadata": {},
          "output_type": "execute_result"
        }
      ],
      "source": [
        "# reset any stored data\n",
        "keras.backend.clear_session()\n",
        "tf.random.set_seed(42)\n",
        "np.random.seed(42)\n",
        "\n",
        "# set window size and create input batch sequence\n",
        "window_size = 30\n",
        "train_set = sequential_window_dataset(normalized_x_train, window_size)\n",
        "valid_set = sequential_window_dataset(normalized_x_valid, window_size)\n",
        "\n",
        "# create model\n",
        "model = keras.models.Sequential([\n",
        "  keras.layers.LSTM(100, return_sequences=True, stateful=True,\n",
        "                         batch_input_shape=[1, None, 1]),\n",
        "  keras.layers.LSTM(100, return_sequences=True, stateful=True),\n",
        "  keras.layers.Dense(1),\n",
        "])\n",
        "\n",
        "# set optimizer\n",
        "optimizer = keras.optimizers.legacy.Nadam(learning_rate=1e-4)\n",
        "\n",
        "# compile model\n",
        "model.compile(loss=keras.losses.Huber(),\n",
        "              optimizer=optimizer,\n",
        "              metrics=[\"mae\"])\n",
        "\n",
        "# reset states\n",
        "reset_states = ResetStatesCallback()\n",
        "\n",
        "#set up save best only checkpoint\n",
        "model_checkpoint = keras.callbacks.ModelCheckpoint(\n",
        "    \"my_checkpoint\", save_best_only=True)\n",
        "\n",
        "early_stopping = keras.callbacks.EarlyStopping(patience=50)\n",
        "\n",
        "# fit model\n",
        "model.fit(train_set, epochs=500,\n",
        "          validation_data=valid_set,\n",
        "          callbacks=[early_stopping, model_checkpoint, reset_states])"
      ]
    },
    {
      "cell_type": "markdown",
      "metadata": {
        "colab_type": "text",
        "id": "kVkhv3sk-LlA"
      },
      "source": [
        "## Make Predictions"
      ]
    },
    {
      "cell_type": "code",
      "execution_count": 15,
      "metadata": {
        "colab": {},
        "colab_type": "code",
        "id": "nPeZUfQy8OJQ"
      },
      "outputs": [],
      "source": [
        "# recall best model\n",
        "model = keras.models.load_model(\"my_checkpoint\")"
      ]
    },
    {
      "cell_type": "code",
      "execution_count": 16,
      "metadata": {
        "colab": {},
        "colab_type": "code",
        "id": "4tFrq5uW8OJR"
      },
      "outputs": [
        {
          "name": "stdout",
          "output_type": "stream",
          "text": [
            "1/1 [==============================] - 0s 323ms/step\n"
          ]
        }
      ],
      "source": [
        "# make predictions\n",
        "rnn_forecast = model.predict(normalized_x_test[np.newaxis,:])\n",
        "rnn_forecast = rnn_forecast.flatten()\n"
      ]
    },
    {
      "cell_type": "code",
      "execution_count": 17,
      "metadata": {
        "colab": {
          "base_uri": "https://localhost:8080/",
          "height": 33
        },
        "colab_type": "code",
        "id": "gsSbjyD8r66o",
        "outputId": "e75ed9ed-3968-4028-9441-61e3b6ecc067"
      },
      "outputs": [
        {
          "data": {
            "text/plain": [
              "(422,)"
            ]
          },
          "execution_count": 17,
          "metadata": {},
          "output_type": "execute_result"
        }
      ],
      "source": [
        "# Example of how to invert\n",
        "rnn_unscaled_forecast = x_train_scaler.inverse_transform(rnn_forecast.reshape(-1,1)).flatten()\n",
        "rnn_unscaled_forecast.shape"
      ]
    },
    {
      "cell_type": "code",
      "execution_count": 18,
      "metadata": {
        "colab": {
          "base_uri": "https://localhost:8080/",
          "height": 410
        },
        "colab_type": "code",
        "id": "ZfaR6nqj8OJT",
        "outputId": "d90cbcf3-3a0e-4e50-d995-89ef602779a9"
      },
      "outputs": [
        {
          "data": {
            "image/png": "[encoded data removed]",
            "text/plain": [
              "<Figure size 1000x600 with 1 Axes>"
            ]
          },
          "metadata": {},
          "output_type": "display_data"
        }
      ],
      "source": [
        "# plot results\n",
        "plt.figure(figsize=(10,6))\n",
        "\n",
        "plt.ylabel('Dollars $')\n",
        "plt.xlabel('Timestep in Days')\n",
        "plt.title(f'LSTM {window_size} Forecast')\n",
        "plot_series(x_test.index, x_test, label=\"Actual\")\n",
        "plot_series(x_test.index, rnn_unscaled_forecast, label=\"Forecast\")\n",
        "plt.show()"
      ]
    },
    {
      "cell_type": "code",
      "execution_count": 19,
      "metadata": {
        "colab": {
          "base_uri": "https://localhost:8080/",
          "height": 33
        },
        "colab_type": "code",
        "id": "Wgf2u2Tp8OJV",
        "outputId": "21687791-1ebf-4eba-8686-cf159d82ea24"
      },
      "outputs": [
        {
          "data": {
            "text/plain": [
              "2.5302558"
            ]
          },
          "execution_count": 19,
          "metadata": {},
          "output_type": "execute_result"
        }
      ],
      "source": [
        "# calculate MAE\n",
        "keras.metrics.mean_absolute_error(x_test, rnn_unscaled_forecast).numpy()"
      ]
    },
    {
      "cell_type": "markdown",
      "metadata": {},
      "source": [
        "MAE value in Blake's notebook was 1.1875452.  This value (2.53) seems quite a bit worse, at least in percentage change.\n",
        "Is this due to library change or just expected variance for these runs?"
      ]
    },
    {
      "cell_type": "code",
      "execution_count": null,
      "metadata": {
        "colab": {},
        "colab_type": "code",
        "id": "yRBHsgYm3qhT"
      },
      "outputs": [],
      "source": []
    }
  ],
  "metadata": {
    "accelerator": "GPU",
    "colab": {
      "collapsed_sections": [],
      "name": "LSTM Model.ipynb",
      "provenance": [],
      "toc_visible": true
    },
    "kernelspec": {
      "display_name": "Python 3",
      "name": "python3"
    },
    "language_info": {
      "codemirror_mode": {
        "name": "ipython",
        "version": 3
      },
      "file_extension": ".py",
      "mimetype": "text/x-python",
      "name": "python",
      "nbconvert_exporter": "python",
      "pygments_lexer": "ipython3",
      "version": "3.11.8"
    }
  },
  "nbformat": 4,
  "nbformat_minor": 0
}
